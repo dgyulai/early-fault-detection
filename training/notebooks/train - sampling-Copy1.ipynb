{
 "cells": [
  {
   "cell_type": "code",
   "execution_count": 27,
   "metadata": {
    "collapsed": false
   },
   "outputs": [],
   "source": [
    "# %matplotlib notebook\n",
    "%matplotlib inline\n",
    "\n",
    "import copy\n",
    "import numpy as np\n",
    "import random\n",
    "import matplotlib.pyplot as plt\n",
    "from _converter import SensorThings2Dict\n",
    "from _evaluation import print_metrics\n",
    "\n",
    "_false = \"False\"\n",
    "_true = \"True\""
   ]
  },
  {
   "cell_type": "code",
   "execution_count": 28,
   "metadata": {
    "collapsed": false
   },
   "outputs": [
    {
     "name": "stdout",
     "output_type": "stream",
     "text": [
      "Loading rows... ABU1.txt\n",
      "Incomplete rows: 170\n",
      "Loaded: 30768\n",
      "Good: 28983 Faulty: 1785\n"
     ]
    }
   ],
   "source": [
    "import json\n",
    "files = [\"ABU1.txt\"] # \"ABU1.2.txt\"\n",
    "data = []\n",
    "bad = 0\n",
    "for filename in files:\n",
    "    print(\"Loading rows... {}\".format(filename))\n",
    "    with open(filename) as f:\n",
    "        for line in f:\n",
    "            try:\n",
    "                features = SensorThings2Dict(json.loads(line))\n",
    "                data.append(list(features.values()))\n",
    "            except Exception, e:\n",
    "                bad+=1\n",
    "\n",
    "print(\"Incomplete rows: {}\".format(bad))\n",
    "print(\"Loaded: {}\".format(len(data)))\n",
    "\n",
    "\"\"\" random split seed \"\"\"\n",
    "data = np.asarray(data)\n",
    "print(\"Good: {} Faulty: {}\".format(len(data[data[:,-1]==_true]), len(data[data[:,-1]==_false])))\n",
    "#print(data[:,2:-1])\n",
    "# numerics = data[:,2:-1]\n",
    "# for n in numerics[data[:,-1]=='True']:\n",
    "#     plt.plot(n);\n",
    "mask = np.random.rand(len(data)) < 0.9"
   ]
  },
  {
   "cell_type": "code",
   "execution_count": 29,
   "metadata": {
    "collapsed": false
   },
   "outputs": [
    {
     "name": "stdout",
     "output_type": "stream",
     "text": [
      "Train Total: 27713 Good: 26102 Faulty: 1611 Ratio: 0.0581315628045\n",
      "Test  Total: 3055 Good: 2881 Faulty: 174 Ratio: 0.00627864179266\n",
      "Re-sampling...\n",
      "Train Total: 6000 Good: 5000 Faulty: 1000 Ratio: 0.166666666667\n"
     ]
    }
   ],
   "source": [
    "\n",
    "\n",
    "train = data[mask]\n",
    "test = data[~mask]\n",
    "faulty = train[train[:,-1]==_false]\n",
    "not_faulty = train[train[:,-1]==_true]\n",
    "fr = len(faulty)/float(len(train))\n",
    "print(\"Train Total: {} Good: {} Faulty: {} Ratio: {}\".format(len(train), len(not_faulty), len(faulty), fr))\n",
    "print(\"Test  Total: {} Good: {} Faulty: {} Ratio: {}\".format(len(test), len(test[test[:,-1]==_true]), len(test[test[:,-1]==_false]), float(len(test[test[:,-1]==_false]))/len(train)))\n",
    "\n",
    "\n",
    "print(\"Re-sampling...\")\n",
    "from scipy.stats import logistic\n",
    "\n",
    "# Take random numbers from a logistic probability density function\n",
    "def logistic_choice(total, sample_size, replace=False):\n",
    "    p = logistic.pdf(np.arange(0,total), loc=0, scale=total/5)\n",
    "    p /= np.sum(p)\n",
    "    \n",
    "    return np.random.choice(total, size=sample_size, replace=replace, p=p)\n",
    "\n",
    "sample_size = np.min([5000, len(not_faulty)])\n",
    "samples = logistic_choice(len(not_faulty), sample_size)\n",
    "# TODO: Upsample faulties with logistic_choice(replace=True)\n",
    "f_sample_size = np.min([1000, len(faulty)])\n",
    "f_samples = logistic_choice(len(faulty), f_sample_size)\n",
    "# Put samples together and shuffle\n",
    "train = np.concatenate((not_faulty[samples], faulty[f_samples]))\n",
    "train = np.random.permutation(train)\n",
    "\n",
    "faulty = train[train[:,-1]==_false]\n",
    "not_faulty = train[train[:,-1]==_true]\n",
    "fr = len(faulty)/float(len(train))\n",
    "print(\"Train Total: {} Good: {} Faulty: {} Ratio: {}\".format(len(train), len(not_faulty), len(faulty), fr))\n",
    "\n",
    "train_data = train[:,2:-1].astype(np.float32)\n",
    "test_data = test[:,2:-1].astype(np.float32)\n",
    "\"\"\"\n",
    "Quality_OK is mapped to Faultiness\n",
    "    'False' -> 1 (Faulty)\n",
    "    'True'  -> 0 (Good)\n",
    "\"\"\"\n",
    "train_labels = np.array(train[:,-1]==_false).astype(np.int32)\n",
    "test_labels = np.array(test[:,-1]==_false).astype(np.int32)"
   ]
  },
  {
   "cell_type": "code",
   "execution_count": 30,
   "metadata": {
    "collapsed": false
   },
   "outputs": [
    {
     "name": "stdout",
     "output_type": "stream",
     "text": [
      "Wall time: 1.17 s\n",
      "------------------------- EVALUATION -------------------------\n",
      "Confusion Matrix:\n",
      "[[5000    0]\n",
      " [  12  988]]\n",
      "Matthews Correlation Coefficient: 0.99279125563\n",
      "--------------------------------------------------------------\n",
      "------------------------- EVALUATION -------------------------\n",
      "Confusion Matrix:\n",
      "[[2864   17]\n",
      " [   6  168]]\n",
      "Matthews Correlation Coefficient: 0.93243196466\n",
      "--------------------------------------------------------------\n"
     ]
    }
   ],
   "source": [
    "\"\"\" Classification and Regression Trees (CART) \"\"\"\n",
    "from sklearn.tree import DecisionTreeClassifier\n",
    "\n",
    "criteria = [\"gini\", \"entropy\"]\n",
    "clf = DecisionTreeClassifier(criterion=criteria[0], random_state=1, max_depth=100,  class_weight={0:1-fr, 1:fr})\n",
    "\n",
    "%time t = clf.fit(train_data, train_labels)\n",
    "print_metrics(train_labels, clf.predict(train_data))\n",
    "print_metrics(test_labels, clf.predict(test_data))"
   ]
  },
  {
   "cell_type": "code",
   "execution_count": 31,
   "metadata": {
    "collapsed": false
   },
   "outputs": [
    {
     "name": "stdout",
     "output_type": "stream",
     "text": [
      "Wall time: 4.21 s\n",
      "------------------------- EVALUATION -------------------------\n",
      "Confusion Matrix:\n",
      "[[5000    0]\n",
      " [  20  980]]\n",
      "Matthews Correlation Coefficient: 0.987975514641\n",
      "--------------------------------------------------------------\n",
      "------------------------- EVALUATION -------------------------\n",
      "Confusion Matrix:\n",
      "[[2865   16]\n",
      " [  10  164]]\n",
      "Matthews Correlation Coefficient: 0.922187284807\n",
      "--------------------------------------------------------------\n"
     ]
    }
   ],
   "source": [
    "\"\"\" Random Forest \"\"\"\n",
    "from sklearn.ensemble import RandomForestClassifier\n",
    "\n",
    "clf = RandomForestClassifier(n_estimators=100,  class_weight={0:1-fr, 1:fr}, max_depth=90, n_jobs=4)\n",
    "%time clf = clf.fit(train_data, train_labels)\n",
    "print_metrics(train_labels, clf.predict(train_data))\n",
    "print_metrics(test_labels, clf.predict(test_data))"
   ]
  },
  {
   "cell_type": "code",
   "execution_count": 37,
   "metadata": {
    "collapsed": false
   },
   "outputs": [
    {
     "name": "stdout",
     "output_type": "stream",
     "text": [
      "Wall time: 8.05 s\n",
      "------------------------- EVALUATION -------------------------\n",
      "Confusion Matrix:\n",
      "[[5000    0]\n",
      " [   9  991]]\n",
      "Matthews Correlation Coefficient: 0.994595096042\n",
      "--------------------------------------------------------------\n",
      "------------------------- EVALUATION -------------------------\n",
      "Confusion Matrix:\n",
      "[[2866   15]\n",
      " [   8  166]]\n",
      "Matthews Correlation Coefficient: 0.931420506977\n",
      "--------------------------------------------------------------\n"
     ]
    }
   ],
   "source": [
    "\"\"\" Gradient Boosting \"\"\"\n",
    "from sklearn.ensemble import GradientBoostingClassifier\n",
    "\n",
    "losses = ['deviance', 'exponential']\n",
    "clf = GradientBoostingClassifier(loss=losses[1], n_estimators=100,  max_depth=25, learning_rate=0.1)\n",
    "\n",
    "%time clf = clf.fit(train_data, train_labels)\n",
    "print_metrics(train_labels, clf.predict(train_data))\n",
    "print_metrics(test_labels, clf.predict(test_data))"
   ]
  },
  {
   "cell_type": "code",
   "execution_count": 15,
   "metadata": {
    "collapsed": false,
    "scrolled": false
   },
   "outputs": [
    {
     "data": {
      "text/plain": [
       "<matplotlib.text.Text at 0xd61b6d8>"
      ]
     },
     "execution_count": 15,
     "metadata": {},
     "output_type": "execute_result"
    },
    {
     "data": {
      "application/pdf": "[encoded data removed]",
      "text/plain": [
       "<matplotlib.figure.Figure at 0x15901048>"
      ]
     },
     "metadata": {},
     "output_type": "display_data"
    }
   ],
   "source": [
    "from scipy.stats import logistic\n",
    "\n",
    "from IPython.display import set_matplotlib_formats\n",
    "set_matplotlib_formats('pdf', quality=100)\n",
    "# from scipy.stats import poisson\n",
    "# p = poisson.sf(np.arange(0,100),80, loc=-20)\n",
    "# plt.plot(p)\n",
    "\n",
    "total = 5000\n",
    "p = logistic.pdf(np.arange(0,total), loc=0, scale=total/5.0)\n",
    "# p -= np.min(p)\n",
    "# p /= np.max(p)\n",
    "p /= np.sum(p)\n",
    "plt.grid(linestyle='dotted')\n",
    "plt.plot(np.flip(p,0))\n",
    "plt.ylabel(\"Probability\")\n",
    "plt.xlabel(\"Datapoint\")\n",
    "\n",
    "\n",
    "# s = np.random.choice(total, size=500, replace=False, p=p)\n",
    "# x = np.zeros(1000)\n",
    "# for i in s:\n",
    "#     x[i] = 1\n",
    "# plt.plot(x, 'ro')"
   ]
  },
  {
   "cell_type": "code",
   "execution_count": 18,
   "metadata": {
    "collapsed": false
   },
   "outputs": [
    {
     "name": "stdout",
     "output_type": "stream",
     "text": [
      "deque([array([1, 2, 3])], maxlen=5)\n",
      "[[ 1  2  3]\n",
      " [10 11 12]]\n"
     ]
    }
   ],
   "source": [
    "from collections import deque\n",
    "\n",
    "d = deque([], maxlen=5)\n",
    "\n",
    "\n",
    "d.append(np.asarray([1,2,3]))\n",
    "print(d)\n",
    "d.append(np.asarray([10,11,12]))\n",
    "print(np.asarray(d))"
   ]
  },
  {
   "cell_type": "code",
   "execution_count": null,
   "metadata": {
    "collapsed": true
   },
   "outputs": [],
   "source": []
  }
 ],
 "metadata": {
  "anaconda-cloud": {},
  "kernelspec": {
   "display_name": "Python [python2]",
   "language": "python",
   "name": "Python [python2]"
  },
  "language_info": {
   "codemirror_mode": {
    "name": "ipython",
    "version": 2
   },
   "file_extension": ".py",
   "mimetype": "text/x-python",
   "name": "python",
   "nbconvert_exporter": "python",
   "pygments_lexer": "ipython2",
   "version": "2.7.13"
  }
 },
 "nbformat": 4,
 "nbformat_minor": 0
}

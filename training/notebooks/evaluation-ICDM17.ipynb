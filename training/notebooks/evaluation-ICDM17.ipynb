{
 "cells": [
  {
   "cell_type": "code",
   "execution_count": 10,
   "metadata": {
    "collapsed": true
   },
   "outputs": [],
   "source": [
    "# %matplotlib notebook\n",
    "%matplotlib inline\n",
    "\n",
    "import copy\n",
    "import numpy as np\n",
    "import random\n",
    "import matplotlib.pyplot as plt\n",
    "import json\n",
    "from collections import deque\n",
    "from _converter_v2 import Event2Dict\n",
    "from _evaluation import print_metrics\n",
    "\n",
    "_true = \"true\"\n",
    "_false = \"false\"\n",
    "path = \"\""
   ]
  },
  {
   "cell_type": "markdown",
   "metadata": {},
   "source": [
    "Quality_OK is mapped to Faultiness\n",
    "* 'False' -> 1 (Faulty)\n",
    "* 'True'  -> 0 (Good)"
   ]
  },
  {
   "cell_type": "code",
   "execution_count": 11,
   "metadata": {
    "collapsed": true
   },
   "outputs": [],
   "source": [
    "def load(prod_id, mx=0):\n",
    "    filename = path+\"layouts/\"+prod_id+\".json\"\n",
    "    print(\"Loading layout... {}\".format(filename))\n",
    "    with open(filename) as j:    \n",
    "        layout = json.load(j)\n",
    "\n",
    "    filename = prod_id+\".txt\"\n",
    "    data = []\n",
    "    times = []\n",
    "    bad = 0\n",
    "    \n",
    "    print(\"Loading rows... {}\".format(filename))\n",
    "    with open(path+filename) as f:\n",
    "        i = 0\n",
    "        for line in f:\n",
    "            i = i+1\n",
    "            if mx>0 and i>mx:\n",
    "                break\n",
    "                \n",
    "            try:\n",
    "                features, timestamps = Event2Dict(json.loads(line), layout)\n",
    "                data.append(features.values())\n",
    "                times.append(timestamps.values())\n",
    "            except Exception, e:\n",
    "                print(e)\n",
    "                break\n",
    "                bad+=1\n",
    "\n",
    "    print(\"Errors: {}\".format(bad))\n",
    "    print(\"Loaded: {}\".format(len(data)))\n",
    "\n",
    "    \"\"\" random split seed \"\"\"\n",
    "    data, times = np.asarray(data), np.asarray(times)\n",
    "    # print(data.shape, times.shape)\n",
    "    mask = np.random.rand(len(data)) < 0.9\n",
    "    print(\"Total: {} Good: {} Faulty: {} Ratio: {}\".format(len(data), len(data[data[:,-1]==_true]), len(data[data[:,-1]==_false]), len(data[data[:,-1]==_false])/float(len(data[data[:,-1]==_true]))))\n",
    "    return data, times, mask, layout"
   ]
  },
  {
   "cell_type": "code",
   "execution_count": 12,
   "metadata": {
    "collapsed": true
   },
   "outputs": [],
   "source": [
    "\"\"\" Logistic Sub-Sample \"\"\"\n",
    "from scipy.stats import logistic\n",
    "\n",
    "# Take random numbers from a logistic probability density function\n",
    "def logistic_choice(total, sample_size, replace=False):\n",
    "    p = logistic.pdf(np.arange(0,total), loc=0, scale=total/5)\n",
    "    p /= np.sum(p)\n",
    "    return np.random.choice(total, size=sample_size, replace=replace, p=p)\n",
    "\n",
    "def subsample(train, quiet=False):\n",
    "    faulty = train[train[:,-1]==_false]\n",
    "    not_faulty = train[train[:,-1]==_true]\n",
    "    fr = len(faulty)/float(len(train))\n",
    "    if not quiet:\n",
    "        print(\"Train Total: {} Good: {} Faulty: {} Ratio: {}\".format(len(train), len(not_faulty), len(faulty), fr))\n",
    "        print(\"Test  Total: {} Good: {} Faulty: {} Ratio: {}\".format(len(test), len(test[test[:,-1]==_true]), len(test[test[:,-1]==_false]), float(len(test[test[:,-1]==_false]))/len(test)))\n",
    "\n",
    "        print(\"Re-sampling...\")\n",
    "        \n",
    "    sample_size = np.min([5000, len(not_faulty)])\n",
    "    samples = logistic_choice(len(not_faulty), sample_size)\n",
    "    # TODO: Upsample faulties with logistic_choice(replace=True)\n",
    "    f_sample_size = np.min([1000, len(faulty)])\n",
    "    f_samples = logistic_choice(len(faulty), f_sample_size)\n",
    "    # Put samples together and shuffle\n",
    "    train = np.concatenate((not_faulty[samples], faulty[f_samples]))\n",
    "    train = np.random.permutation(train)\n",
    "\n",
    "    fr = len(train[train[:,-1]==_false])/float(len(train))\n",
    "    if not quiet:\n",
    "        print(\"Train Total: {} Good: {} Faulty: {} Ratio: {}\".format(len(train), len(train[train[:,-1]==_true]), len(train[train[:,-1]==_false]), fr))\n",
    "\n",
    "    return train"
   ]
  },
  {
   "cell_type": "markdown",
   "metadata": {},
   "source": [
    "## Accuracy"
   ]
  },
  {
   "cell_type": "code",
   "execution_count": 70,
   "metadata": {},
   "outputs": [
    {
     "name": "stdout",
     "output_type": "stream",
     "text": [
      "Loading layout... ../offline/layouts/ABU1.json\n",
      "Loading rows... ABU1.txt\n",
      "Errors: 0\n",
      "Loaded: 212100\n",
      "Total: 212100 Good: 200168 Faulty: 11932 Ratio: 0.0596099276608\n",
      "Train Total: 190919 Good: 180147 Faulty: 10772 Ratio: 0.0564218333429\n",
      "Test  Total: 21181 Good: 20021 Faulty: 1160 Ratio: 0.0547660639252\n",
      "Re-sampling...\n",
      "Train Total: 6000 Good: 5000 Faulty: 1000 Ratio: 0.166666666667\n"
     ]
    }
   ],
   "source": [
    "\"\"\" load data \"\"\"\n",
    "data, _, mask, _ = load(\"ABU1\")\n",
    "train = data[mask]\n",
    "test = data[~mask]\n",
    "\n",
    "test_data = test[:,2:-1].astype(np.float32)\n",
    "test_labels = np.array(test[:,-1]==_false).astype(np.int32)\n",
    "train_data = train[:,2:-1].astype(np.float32)\n",
    "train_labels = np.array(train[:,-1]==_false).astype(np.int32)\n",
    "# sub-sample\n",
    "train_s = subsample(train)\n",
    "train_data_s = train_s[:,2:-1].astype(np.float32)\n",
    "train_labels_s = np.array(train_s[:,-1]==_false).astype(np.int32)"
   ]
  },
  {
   "cell_type": "code",
   "execution_count": 71,
   "metadata": {
    "collapsed": true
   },
   "outputs": [],
   "source": [
    "# balance the train set (for accuracy metric)\n",
    "balanced = True\n",
    "if balanced:\n",
    "    faulty = test[test[:,-1]==_false]\n",
    "    not_faulty = test[test[:,-1]==_true]\n",
    "    test = np.concatenate((not_faulty[:len(faulty)], faulty))\n",
    "    test_data = test[:,2:-1].astype(np.float32)\n",
    "    test_labels = np.array(test[:,-1]==_false).astype(np.int32)"
   ]
  },
  {
   "cell_type": "code",
   "execution_count": 72,
   "metadata": {},
   "outputs": [
    {
     "name": "stdout",
     "output_type": "stream",
     "text": [
      "CPU times: user 14min 56s, sys: 2.39 s, total: 14min 58s\n",
      "Wall time: 3min 45s\n",
      "------------------------- EVALUATION -------------------------\n",
      "Accuracy Score: 0.980172413793\n",
      "             precision    recall  f1-score   support\n",
      "\n",
      "          0       0.96      1.00      0.98      1160\n",
      "          1       1.00      0.96      0.98      1160\n",
      "\n",
      "avg / total       0.98      0.98      0.98      2320\n",
      "\n",
      "Confusion Matrix:\n",
      "[[1160    0]\n",
      " [  46 1114]]\n",
      "Kappa Score: 0.960344827586\n",
      "Matthews Correlation Coefficient: 0.961100806126\n",
      "--------------------------------------------------------------\n",
      "CPU times: user 14.4 s, sys: 150 ms, total: 14.6 s\n",
      "Wall time: 3.97 s\n",
      "------------------------- EVALUATION -------------------------\n",
      "Accuracy Score: 0.975862068966\n",
      "             precision    recall  f1-score   support\n",
      "\n",
      "          0       0.96      1.00      0.98      1160\n",
      "          1       1.00      0.95      0.98      1160\n",
      "\n",
      "avg / total       0.98      0.98      0.98      2320\n",
      "\n",
      "Confusion Matrix:\n",
      "[[1158    2]\n",
      " [  54 1106]]\n",
      "Kappa Score: 0.951724137931\n",
      "Matthews Correlation Coefficient: 0.952681832316\n",
      "--------------------------------------------------------------\n"
     ]
    }
   ],
   "source": [
    "\"\"\" Random Forest \"\"\"\n",
    "from sklearn.ensemble import RandomForestClassifier\n",
    "\n",
    "# ALL\n",
    "clf = RandomForestClassifier(n_estimators=100, max_depth=90, n_jobs=4)\n",
    "%time clf = clf.fit(train_data, train_labels)\n",
    "# print_metrics(full_train_labels, clf.predict(full_train_data))\n",
    "print_metrics(test_labels, clf.predict(test_data))\n",
    "\n",
    "# SUBSAMPLE\n",
    "clf = RandomForestClassifier(n_estimators=100, max_depth=90, n_jobs=4)\n",
    "%time clf = clf.fit(train_data_s, train_labels_s)\n",
    "# print_metrics(train_labels_s, clf.predict(train_data_s))\n",
    "print_metrics(test_labels, clf.predict(test_data))"
   ]
  },
  {
   "cell_type": "markdown",
   "metadata": {},
   "source": [
    "## Accuacy vs. Number of Datapoints"
   ]
  },
  {
   "cell_type": "code",
   "execution_count": 13,
   "metadata": {},
   "outputs": [
    {
     "name": "stdout",
     "output_type": "stream",
     "text": [
      "Loading layout... ../offline/layouts/ABU1.json\n",
      "Loading rows... ABU1.txt\n",
      "Errors: 0\n",
      "Loaded: 212100\n",
      "Total: 212100 Good: 200168 Faulty: 11932 Ratio: 0.0596099276608\n"
     ]
    }
   ],
   "source": [
    "\"\"\" load data \"\"\"\n",
    "# mx = 50000\n",
    "# D = {}\n",
    "# for n in range(1,6+1):\n",
    "#     prod_id = \"ABU{}\".format(n)\n",
    "#     data, _, mask = load(prod_id, mx)\n",
    "#     D[prod_id] = {\n",
    "#         'data': data, \n",
    "#         'mast': mask\n",
    "#     }\n",
    "\n",
    "data, _, mask, _ = load(\"ABU1\")\n",
    "test = data[~mask]\n",
    "test_data = test[:,2:-1].astype(np.float32)\n",
    "test_labels = np.array(test[:,-1]==_false).astype(np.int32)\n",
    "\n",
    "train = data[mask]\n",
    "faulty = train[train[:,-1]==_false]\n",
    "not_faulty = train[train[:,-1]==_true]\n",
    "\n",
    "ratio = 0.95/0.05"
   ]
  },
  {
   "cell_type": "code",
   "execution_count": 14,
   "metadata": {},
   "outputs": [
    {
     "name": "stdout",
     "output_type": "stream",
     "text": [
      "Total\tMCC\tHL\n",
      "199\t0.0\t0.0555921052632\n",
      "1199\t0.317512661415\t0.0502819548872\n",
      "2199\t0.565256614624\t0.0373120300752\n",
      "3199\t0.670177117616\t0.0300281954887\n",
      "4199\t0.772397993341\t0.0218045112782\n",
      "5199\t0.837308573511\t0.0160244360902\n",
      "6199\t0.869771043627\t0.0130169172932\n",
      "7199\t0.881180450926\t0.0119360902256\n",
      "8199\t0.903716972859\t0.00972744360902\n",
      "9199\t0.904302279291\t0.00968045112782\n",
      "10199\t0.923022603267\t0.0078477443609\n",
      "11199\t0.943301199144\t0.00582706766917\n",
      "12199\t0.946638168353\t0.00549812030075\n",
      "13199\t0.947530995077\t0.00540413533835\n",
      "14199\t0.947063148539\t0.00545112781955\n",
      "15199\t0.953038198187\t0.00484022556391\n",
      "16199\t0.967849492507\t0.00333646616541\n",
      "17199\t0.971485237413\t0.00296052631579\n",
      "18199\t0.968732244604\t0.00324248120301\n",
      "19199\t0.964595112445\t0.00366541353383\n",
      "20199\t0.970566873681\t0.0030545112782\n",
      "21199\t0.972855290771\t0.00281954887218\n",
      "22199\t0.981061379025\t0.00197368421053\n",
      "23199\t0.971940113721\t0.00291353383459\n",
      "24199\t0.969190416976\t0.0031954887218\n",
      "25199\t0.982877874614\t0.00178571428571\n",
      "26199\t0.983784948868\t0.00169172932331\n",
      "27199\t0.979698321428\t0.00211466165414\n",
      "28199\t0.972399898077\t0.00286654135338\n",
      "29199\t0.978788362335\t0.00220864661654\n",
      "30199\t0.978788362335\t0.00220864661654\n",
      "31199\t0.983784948868\t0.00169172932331\n",
      "32199\t0.979698321428\t0.00211466165414\n",
      "33199\t0.984691279865\t0.0015977443609\n",
      "34199\t0.984237868643\t0.00164473684211\n"
     ]
    }
   ],
   "source": [
    "\"\"\" Random Forest \"\"\"\n",
    "from sklearn.ensemble import RandomForestClassifier\n",
    "from sklearn import metrics\n",
    "\n",
    "clf = RandomForestClassifier(n_estimators=100, max_depth=90, n_jobs=4)\n",
    "MCCs = []\n",
    "HLs = []\n",
    "print(\"Total\\tMCC\\tHL\")\n",
    "for tr in xrange(10,1720,50):\n",
    "    small = np.concatenate((not_faulty[:int(tr*ratio)], faulty[:tr]))\n",
    "    small_data = small[:,2:-1].astype(np.float32)\n",
    "    small_labels = np.array(small[:,-1]==_false).astype(np.int32)\n",
    "    clf = clf.fit(small_data, small_labels)\n",
    "    predicted_labels = clf.predict(test_data)\n",
    "    mcc = metrics.matthews_corrcoef(test_labels, predicted_labels)\n",
    "    hl = metrics.hamming_loss(test_labels, predicted_labels)\n",
    "    print(\"{}\\t{}\\t{}\".format(len(small), mcc, hl))\n",
    "    MCCs.append(mcc)\n",
    "    HLs.append(hl)"
   ]
  },
  {
   "cell_type": "code",
   "execution_count": 35,
   "metadata": {
    "scrolled": true
   },
   "outputs": [
    {
     "name": "stdout",
     "output_type": "stream",
     "text": [
      "Total\tMCC\tHL\n",
      "199\t0.0341275030917\t0.103195488722\n",
      "1199\t0.467519401281\t0.0444078947368\n",
      "2199\t0.655992347631\t0.03125\n",
      "3199\t0.703336273807\t0.0276785714286\n",
      "4199\t0.81060915413\t0.0186560150376\n",
      "5199\t0.847410283171\t0.0151785714286\n",
      "6199\t0.859424446609\t0.0140507518797\n",
      "7199\t0.877134313912\t0.0123120300752\n",
      "8199\t0.885681148117\t0.0114661654135\n",
      "9199\t0.896416305611\t0.0104323308271\n",
      "10199\t0.92964695409\t0.00718984962406\n",
      "11199\t0.937171793869\t0.00643796992481\n",
      "12199\t0.947063148539\t0.00545112781955\n",
      "13199\t0.945671973888\t0.00559210526316\n",
      "14199\t0.943313711125\t0.00582706766917\n",
      "15199\t0.945575473536\t0.00559210526316\n",
      "16199\t0.956302885893\t0.00451127819549\n",
      "17199\t0.955347133112\t0.00460526315789\n",
      "18199\t0.960904401516\t0.00404135338346\n",
      "19199\t0.952558834245\t0.00488721804511\n",
      "20199\t0.961366153265\t0.00399436090226\n",
      "21199\t0.971024256038\t0.00300751879699\n",
      "22199\t0.975140268555\t0.00258458646617\n",
      "23199\t0.962749901913\t0.00385338345865\n",
      "24199\t0.972397787201\t0.00286654135338\n",
      "25199\t0.967813819612\t0.00333646616541\n",
      "26199\t0.965514705055\t0.00357142857143\n",
      "27199\t0.970107715741\t0.0031015037594\n",
      "28199\t0.966895574665\t0.00343045112782\n",
      "29199\t0.972398414232\t0.00286654135338\n",
      "30199\t0.963672652111\t0.00375939849624\n",
      "31199\t0.962752131163\t0.00385338345865\n",
      "32199\t0.975140268555\t0.00258458646617\n",
      "33199\t0.973312624676\t0.00277255639098\n",
      "34199\t0.970566071341\t0.0030545112782\n"
     ]
    }
   ],
   "source": [
    "\"\"\" Gradient Boosting \"\"\"\n",
    "from sklearn.ensemble import GradientBoostingClassifier\n",
    "from sklearn import metrics\n",
    "\n",
    "clf = GradientBoostingClassifier(loss='deviance', n_estimators=100,  max_depth=15, learning_rate=0.1)\n",
    "GBMCCs = []\n",
    "GBHLs = []\n",
    "print(\"Total\\tMCC\\tHL\")\n",
    "for tr in xrange(10,1720,50):\n",
    "    small = np.concatenate((not_faulty[:int(tr*ratio)], faulty[:tr]))\n",
    "    small_data = small[:,2:-1].astype(np.float32)\n",
    "    small_labels = np.array(small[:,-1]==_false).astype(np.int32)\n",
    "    clf = clf.fit(small_data, small_labels)\n",
    "    predicted_labels = clf.predict(test_data)\n",
    "    mcc = metrics.matthews_corrcoef(test_labels, predicted_labels)\n",
    "    hl = metrics.hamming_loss(test_labels, predicted_labels)\n",
    "    print(\"{}\\t{}\\t{}\".format(len(small), mcc, hl))\n",
    "    GBMCCs.append(mcc)\n",
    "    GBHLs.append(hl)"
   ]
  },
  {
   "cell_type": "code",
   "execution_count": 81,
   "metadata": {},
   "outputs": [
    {
     "data": {
      "image/png": "[encoded data removed]",
      "text/plain": [
       "<matplotlib.figure.Figure at 0x7f98fadd1d50>"
      ]
     },
     "metadata": {},
     "output_type": "display_data"
    }
   ],
   "source": [
    "from IPython.display import set_matplotlib_formats\n",
    "set_matplotlib_formats('png', quality=100)\n",
    "\n",
    "rrange = xrange(0,30000,int(np.ceil(30000/34)))\n",
    "fig = plt.figure(figsize=(8, 6))\n",
    "\n",
    "ax1 = fig.add_subplot(111)\n",
    "ax1.set_ylabel('MCC')\n",
    "ax1.set_xlabel(\"Feature Vectors\")\n",
    "\n",
    "# RF\n",
    "p = ax1.plot(rrange, MCCs, label=\"Random Forest\", color='b')\n",
    "ax1.axhline(y=0.9, color='gray', linestyle='dashed', alpha=.5)\n",
    "ax1.grid(True)\n",
    "ax1.legend(loc=4)\n",
    "# GB\n",
    "ax3 = fig.add_subplot(111)\n",
    "ax3.plot(rrange, GBMCCs, label=\"Gradient Boosting\", color=\"g\")\n",
    "ax3.legend(loc=4)\n",
    "\n",
    "plt.show()"
   ]
  },
  {
   "cell_type": "code",
   "execution_count": 82,
   "metadata": {},
   "outputs": [
    {
     "data": {
      "image/png": "[encoded data removed]",
      "text/plain": [
       "<matplotlib.figure.Figure at 0x7f9900f47550>"
      ]
     },
     "metadata": {},
     "output_type": "display_data"
    }
   ],
   "source": [
    "from IPython.display import set_matplotlib_formats\n",
    "set_matplotlib_formats('png', quality=100)\n",
    "\n",
    "rrange = xrange(0,30000,int(np.ceil(30000/34)))\n",
    "fig = plt.figure(figsize=(8, 6))\n",
    "\n",
    "ax1 = fig.add_subplot(111)\n",
    "ax1.set_ylabel('Hamming Loss')\n",
    "ax1.set_xlabel(\"Feature Vectors\")\n",
    "\n",
    "# RF\n",
    "p = ax1.fill_between(rrange, HLs, label=\"Random Forest\", alpha=0.2, color='b')\n",
    "ax1.grid(True)\n",
    "ax1.axhline(y=0.01, color='gray', linestyle='dashed', alpha=.5)\n",
    "ax1.legend(loc=1)\n",
    "# GB\n",
    "ax2 = fig.add_subplot(111)\n",
    "ax2.fill_between(rrange, GBHLs, label=\"Gradient Boosting\", alpha=0.5, color='g')\n",
    "ax2.grid(True)\n",
    "ax2.legend(loc=1)\n",
    "\n",
    "plt.show()"
   ]
  },
  {
   "cell_type": "code",
   "execution_count": 200,
   "metadata": {},
   "outputs": [
    {
     "data": {
      "image/png": "[encoded data removed]",
      "text/plain": [
       "<matplotlib.figure.Figure at 0x2c581e48>"
      ]
     },
     "metadata": {},
     "output_type": "display_data"
    }
   ],
   "source": [
    "from IPython.display import set_matplotlib_formats\n",
    "set_matplotlib_formats('png', quality=100)\n",
    "\n",
    "rrange = xrange(0,30000,int(np.ceil(30000/17)))\n",
    "arange = xrange(0,18,1)\n",
    "fig = plt.figure()\n",
    "\n",
    "ax1 = fig.add_subplot(111)\n",
    "ax1.set_ylabel('Datapoints')\n",
    "ax1.set_xlabel('Available Chunks')\n",
    "p = ax1.plot(arange, rrange, label=\"Train Set\", color=\"black\")\n",
    "ax1.grid(True)\n",
    "ax1.legend(loc=4)\n",
    "\n",
    "ax3 = fig.add_subplot(111)\n",
    "ax3.plot(arange, subs_size, label=\"Sub-sampled Train Set\", color=\"black\", linestyle='--')\n",
    "ax3.legend(loc=4)\n",
    "\n",
    "plt.show()"
   ]
  },
  {
   "cell_type": "markdown",
   "metadata": {
    "collapsed": true
   },
   "source": [
    "## Early Detection Rate"
   ]
  },
  {
   "cell_type": "code",
   "execution_count": 73,
   "metadata": {},
   "outputs": [
    {
     "name": "stdout",
     "output_type": "stream",
     "text": [
      "Loading layout... ../offline/layouts/ABU5.json\n",
      "Loading rows... ABU5.txt\n",
      "Errors: 0\n",
      "Loaded: 98600\n",
      "Total: 98600 Good: 93068 Faulty: 5532 Ratio: 0.0594404091632\n",
      "Train Total: 88798 Good: 83842 Faulty: 4956 Ratio: 0.0558120678394\n",
      "Test  Total: 9802 Good: 9226 Faulty: 576 Ratio: 0.0587635176495\n",
      "Re-sampling...\n",
      "Train Total: 6000 Good: 5000 Faulty: 1000 Ratio: 0.166666666667\n"
     ]
    }
   ],
   "source": [
    "\"\"\" load data \"\"\"\n",
    "data, times, mask, layout = load(\"ABU5\")\n",
    "train = data[mask]\n",
    "test = data[~mask]\n",
    "\n",
    "test_data = test[:,2:-1].astype(np.float32)\n",
    "test_labels = np.array(test[:,-1]==_false).astype(np.int32)\n",
    "train_data = train[:,2:-1].astype(np.float32)\n",
    "train_labels = np.array(train[:,-1]==_false).astype(np.int32)\n",
    "\n",
    "faulty = train[train[:,-1]==_false]\n",
    "not_faulty = train[train[:,-1]==_true]\n",
    "means = np.mean(not_faulty[:,2:-1].astype(np.float32), axis=0)\n",
    "\n",
    "# sub-sample\n",
    "train_s = subsample(train)\n",
    "train_data_s = train_s[:,2:-1].astype(np.float32)\n",
    "train_labels_s = np.array(train_s[:,-1]==_false).astype(np.int32)"
   ]
  },
  {
   "cell_type": "code",
   "execution_count": 74,
   "metadata": {},
   "outputs": [
    {
     "name": "stdout",
     "output_type": "stream",
     "text": [
      "Wall time: 3.85 s\n",
      "------------------------- EVALUATION -------------------------\n",
      "Accuracy Score: 0.993572740257\n",
      "             precision    recall  f1-score   support\n",
      "\n",
      "          0       1.00      1.00      1.00      9226\n",
      "          1       0.93      0.97      0.95       576\n",
      "\n",
      "avg / total       0.99      0.99      0.99      9802\n",
      "\n",
      "Confusion Matrix:\n",
      "[[9183   43]\n",
      " [  20  556]]\n",
      "Kappa Score: 0.942965846893\n",
      "Matthews Correlation Coefficient: 0.943170327338\n",
      "--------------------------------------------------------------\n"
     ]
    }
   ],
   "source": [
    "\"\"\" Random Forest \"\"\"\n",
    "from sklearn.ensemble import RandomForestClassifier\n",
    "\n",
    "# Use subsample\n",
    "clf = RandomForestClassifier(n_estimators=100, max_depth=90, n_jobs=4)\n",
    "%time clf = clf.fit(train_data_s, train_labels_s)\n",
    "# print_metrics(train_labels_s, clf.predict(train_data_s))\n",
    "print_metrics(test_labels, clf.predict(test_data))"
   ]
  },
  {
   "cell_type": "code",
   "execution_count": 75,
   "metadata": {},
   "outputs": [
    {
     "name": "stdout",
     "output_type": "stream",
     "text": [
      "(131L,)\n",
      "[[9218    8]\n",
      " [ 453  123]]\n",
      "(308L,)\n",
      "[[9211   15]\n",
      " [ 283  293]]\n",
      "(498L,)\n",
      "[[9193   33]\n",
      " [ 111  465]]\n",
      "[ 0.21354167  0.50868056  0.80729167]\n"
     ]
    }
   ],
   "source": [
    "from sklearn import metrics\n",
    "# test with partial feature vectors\n",
    "# check_at = [\"PasteInspection/PosY6\", \"AOI1/PosY6\", \"AOI2/PosY6\"] # ABU1-3, ABU5-6\n",
    "check_at = [\"PasteInspection/PosX5\", \"AOI1/PosX5\", \"AOI2/PosX5\"] # ABU4\n",
    "check_at_index = []\n",
    "for name in check_at:\n",
    "    check_at_index.append(layout[\"measurements\"].index(name))\n",
    "\n",
    "CMs = []\n",
    "for i in check_at_index:\n",
    "    snapshot = copy.deepcopy(test_data)\n",
    "    for r in snapshot:\n",
    "        r[i:] = means[i:]\n",
    "    \n",
    "    predictions = clf.predict(snapshot)\n",
    "    cm = metrics.confusion_matrix(test_labels, predictions)\n",
    "    print np.where(predictions==1)[0].shape\n",
    "    print cm\n",
    "    CMs.append(cm)\n",
    "    \n",
    "CMs = np.asarray(CMs)\n",
    "N = CMs[:,1,0]+CMs[:,1,1]\n",
    "TN = CMs[:,1,1]\n",
    "print TN/N.astype(np.float32)"
   ]
  },
  {
   "cell_type": "markdown",
   "metadata": {
    "collapsed": true
   },
   "source": [
    "## Early Detection - Saving Production Time"
   ]
  },
  {
   "cell_type": "code",
   "execution_count": 76,
   "metadata": {},
   "outputs": [
    {
     "name": "stdout",
     "output_type": "stream",
     "text": [
      "[[9218    8]\n",
      " [ 453  123]]\n",
      "[[9211   15]\n",
      " [ 283  293]]\n",
      "[[9193   33]\n",
      " [ 111  465]]\n",
      "Production duration: 3.94722222222\n",
      "Total Saved: 1022.05833333\n",
      "Total Wasted: 76.1833333333\n",
      "Total Spent (if not detected): 38690.6722222\n"
     ]
    }
   ],
   "source": [
    "from sklearn import metrics\n",
    "# test with partial feature vectors\n",
    "# check_at = [\"PasteInspection/PosY6\", \"AOI1/PosY6\", \"AOI2/PosY6\"] # ABU1-3, ABU5-6\n",
    "check_at = [\"PasteInspection/PosX5\", \"AOI1/PosX5\", \"AOI2/PosX5\"] # ABU4\n",
    "check_at_index = []\n",
    "for name in check_at:\n",
    "    check_at_index.append(layout[\"measurements\"].index(name))\n",
    "\n",
    "CMs = []\n",
    "total_TN = 0\n",
    "total_FP = 0\n",
    "total_saved = 0\n",
    "total_wasted = 0\n",
    "for i in check_at_index:\n",
    "    snapshot = copy.deepcopy(test_data)\n",
    "    for r in snapshot:\n",
    "        r[i:] = means[i:]\n",
    "    \n",
    "    predictions = clf.predict(snapshot)\n",
    "    cm = metrics.confusion_matrix(test_labels, predictions)\n",
    "    print cm\n",
    "    ####\n",
    "    TN = cm[1,1] - total_TN\n",
    "    total_TN += TN\n",
    "    saved = times[0][-1]-times[0][i+2]\n",
    "#     print TN, saved\n",
    "    total_saved += TN*saved\n",
    "    ####\n",
    "    FP = cm[0,1] - total_FP\n",
    "    total_FP += FP\n",
    "    wasted = times[0][i+2]-times[0][0]\n",
    "#     print FP, wasted\n",
    "    total_wasted += FP*wasted\n",
    "    \n",
    "total = times[0][-1]-times[0][0] # assuming they all take same time\n",
    "print \"Production duration:\", total/3600.\n",
    "total *= len(test_data)\n",
    "\n",
    "print \"Total Saved:\", total_saved/3600.0\n",
    "print \"Total Wasted:\", total_wasted/3600.0\n",
    "print \"Total Spent (if not detected):\", total/3600.0"
   ]
  },
  {
   "cell_type": "code",
   "execution_count": null,
   "metadata": {
    "collapsed": true
   },
   "outputs": [],
   "source": []
  }
 ],
 "metadata": {
  "anaconda-cloud": {},
  "kernelspec": {
   "display_name": "Python 2",
   "language": "python",
   "name": "python2"
  },
  "language_info": {
   "codemirror_mode": {
    "name": "ipython",
    "version": 2
   },
   "file_extension": ".py",
   "mimetype": "text/x-python",
   "name": "python",
   "nbconvert_exporter": "python",
   "pygments_lexer": "ipython2",
   "version": "2.7.13"
  }
 },
 "nbformat": 4,
 "nbformat_minor": 1
}

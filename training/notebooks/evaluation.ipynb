{
 "cells": [
  {
   "cell_type": "code",
   "execution_count": 122,
   "metadata": {
    "collapsed": false,
    "deletable": true,
    "editable": true
   },
   "outputs": [
    {
     "data": {
      "text/plain": [
       "\"\\nQuality_OK is mapped to Faultiness\\n    'False' -> 1 (Faulty)\\n    'True'  -> 0 (Good)\\n\""
      ]
     },
     "execution_count": 122,
     "metadata": {},
     "output_type": "execute_result"
    }
   ],
   "source": [
    "# %matplotlib notebook\n",
    "%matplotlib inline\n",
    "\n",
    "import copy\n",
    "import numpy as np\n",
    "import random\n",
    "import matplotlib.pyplot as plt\n",
    "import json\n",
    "from collections import deque\n",
    "from _converter_v2 import Event2Dict\n",
    "from _evaluation import print_metrics\n",
    "\n",
    "_true = \"true\"\n",
    "_false = \"false\"\n",
    "path = \"../offline/\"\n",
    "\"\"\"\n",
    "Quality_OK is mapped to Faultiness\n",
    "    'False' -> 1 (Faulty)\n",
    "    'True'  -> 0 (Good)\n",
    "\"\"\""
   ]
  },
  {
   "cell_type": "code",
   "execution_count": 92,
   "metadata": {
    "collapsed": false
   },
   "outputs": [],
   "source": [
    "def load(prod_id, mx=0):    \n",
    "    with open(path+\"layouts/\"+prod_id+\".json\") as j:    \n",
    "        layout = json.load(j)\n",
    "\n",
    "    filename = prod_id+\".txt\"\n",
    "    data = []\n",
    "    times = []\n",
    "    bad = 0\n",
    "    \n",
    "    print(\"Loading rows... {}\".format(filename))\n",
    "    with open(path+filename) as f:\n",
    "        i = 0\n",
    "        for line in f:\n",
    "            i = i+1\n",
    "            if mx>0 and i>mx:\n",
    "                break\n",
    "                \n",
    "            try:\n",
    "                features, timestamps = Event2Dict(json.loads(line), layout)\n",
    "                data.append(features.values())\n",
    "                times.append(timestamps.values())\n",
    "            except Exception, e:\n",
    "                print(e)\n",
    "                break\n",
    "                bad+=1\n",
    "\n",
    "    print(\"Errors: {}\".format(bad))\n",
    "    print(\"Loaded: {}\".format(len(data)))\n",
    "\n",
    "    \"\"\" random split seed \"\"\"\n",
    "    data, times = np.asarray(data), np.asarray(times)\n",
    "    # print(data.shape, times.shape)\n",
    "    mask = np.random.rand(len(data)) < 0.9\n",
    "    print(\"Total: {} Good: {} Faulty: {} Ratio: {}\".format(len(data), len(data[data[:,-1]==_true]), len(data[data[:,-1]==_false]), len(data[data[:,-1]==_false])/float(len(data[data[:,-1]==_true]))))\n",
    "    return data, times, mask"
   ]
  },
  {
   "cell_type": "code",
   "execution_count": 111,
   "metadata": {
    "collapsed": false
   },
   "outputs": [],
   "source": [
    "\"\"\" Logistic Sub-Sample \"\"\"\n",
    "from scipy.stats import logistic\n",
    "\n",
    "# Take random numbers from a logistic probability density function\n",
    "def logistic_choice(total, sample_size, replace=False):\n",
    "    p = logistic.pdf(np.arange(0,total), loc=0, scale=total/5)\n",
    "    p /= np.sum(p)\n",
    "    return np.random.choice(total, size=sample_size, replace=replace, p=p)\n",
    "\n",
    "def subsample(train, quiet=False):\n",
    "    faulty = train[train[:,-1]==_false]\n",
    "    not_faulty = train[train[:,-1]==_true]\n",
    "    fr = len(faulty)/float(len(train))\n",
    "    if not quiet:\n",
    "        print(\"Train Total: {} Good: {} Faulty: {} Ratio: {}\".format(len(train), len(not_faulty), len(faulty), fr))\n",
    "        print(\"Test  Total: {} Good: {} Faulty: {} Ratio: {}\".format(len(test), len(test[test[:,-1]==_true]), len(test[test[:,-1]==_false]), float(len(test[test[:,-1]==_false]))/len(test)))\n",
    "\n",
    "        print(\"Re-sampling...\")\n",
    "        \n",
    "    sample_size = np.min([5000, len(not_faulty)])\n",
    "    samples = logistic_choice(len(not_faulty), sample_size)\n",
    "    # TODO: Upsample faulties with logistic_choice(replace=True)\n",
    "    f_sample_size = np.min([1000, len(faulty)])\n",
    "    f_samples = logistic_choice(len(faulty), f_sample_size)\n",
    "    # Put samples together and shuffle\n",
    "    train = np.concatenate((not_faulty[samples], faulty[f_samples]))\n",
    "    train = np.random.permutation(train)\n",
    "\n",
    "    fr = len(train[train[:,-1]==_false])/float(len(train))\n",
    "    if not quiet:\n",
    "        print(\"Train Total: {} Good: {} Faulty: {} Ratio: {}\".format(len(train), len(train[train[:,-1]==_true]), len(train[train[:,-1]==_false]), fr))\n",
    "\n",
    "    return train"
   ]
  },
  {
   "cell_type": "code",
   "execution_count": 96,
   "metadata": {
    "collapsed": false,
    "deletable": true,
    "editable": true
   },
   "outputs": [
    {
     "name": "stdout",
     "output_type": "stream",
     "text": [
      "Loading rows... ABU4.txt\n",
      "Errors: 0\n",
      "Loaded: 32874\n",
      "Total: 32874 Good: 31382 Faulty: 1492 Ratio: 0.0475431776177\n",
      "Train Total: 29636 Good: 28300 Faulty: 1336 Ratio: 0.0450803077338\n",
      "Test  Total: 3238 Good: 3082 Faulty: 156 Ratio: 0.0481778875849\n",
      "Re-sampling...\n",
      "Train Total: 6000 Good: 5000 Faulty: 1000 Ratio: 0.166666666667\n"
     ]
    }
   ],
   "source": [
    "\"\"\" for single experiments \"\"\"\n",
    "data, _, mask = load(\"ABU4\")\n",
    "train = data[mask]\n",
    "test = data[~mask]\n",
    "\n",
    "test_data = test[:,2:-1].astype(np.float32)\n",
    "test_labels = np.array(test[:,-1]==_false).astype(np.int32)\n",
    "train_data = train[:,2:-1].astype(np.float32)\n",
    "train_labels = np.array(train[:,-1]==_false).astype(np.int32)\n",
    "# sub-sample\n",
    "train_s = subsample(train)\n",
    "train_data_s = train_s[:,2:-1].astype(np.float32)\n",
    "train_labels_s = np.array(train_s[:,-1]==_false).astype(np.int32)"
   ]
  },
  {
   "cell_type": "code",
   "execution_count": 97,
   "metadata": {
    "collapsed": false,
    "deletable": true,
    "editable": true
   },
   "outputs": [
    {
     "name": "stdout",
     "output_type": "stream",
     "text": [
      "Wall time: 24.2 s\n",
      "------------------------- EVALUATION -------------------------\n",
      "Accuracy Score: 0.997838171711\n",
      "             precision    recall  f1-score   support\n",
      "\n",
      "          0       1.00      1.00      1.00      3082\n",
      "          1       0.98      0.97      0.98       156\n",
      "\n",
      "avg / total       1.00      1.00      1.00      3238\n",
      "\n",
      "Confusion Matrix:\n",
      "[[3079    3]\n",
      " [   4  152]]\n",
      "Matthews Correlation Coefficient: 0.976362101135\n",
      "--------------------------------------------------------------\n",
      "Wall time: 3.5 s\n",
      "------------------------- EVALUATION -------------------------\n",
      "Accuracy Score: 0.994749845584\n",
      "             precision    recall  f1-score   support\n",
      "\n",
      "          0       1.00      1.00      1.00      3082\n",
      "          1       0.92      0.97      0.95       156\n",
      "\n",
      "avg / total       0.99      0.99      0.99      3238\n",
      "\n",
      "Confusion Matrix:\n",
      "[[3069   13]\n",
      " [   4  152]]\n",
      "Matthews Correlation Coefficient: 0.944691904551\n",
      "--------------------------------------------------------------\n"
     ]
    }
   ],
   "source": [
    "\"\"\" Random Forest \"\"\"\n",
    "from sklearn.ensemble import RandomForestClassifier\n",
    "\n",
    "# ALL\n",
    "clf = RandomForestClassifier(n_estimators=100, max_depth=90, n_jobs=4)\n",
    "%time clf = clf.fit(train_data, train_labels)\n",
    "# print_metrics(full_train_labels, clf.predict(full_train_data))\n",
    "print_metrics(test_labels, clf.predict(test_data))\n",
    "\n",
    "# SUBSAMPLE\n",
    "clf = RandomForestClassifier(n_estimators=100, max_depth=90, n_jobs=4)\n",
    "%time clf = clf.fit(train_data_s, train_labels_s)\n",
    "# print_metrics(train_labels_s, clf.predict(train_data_s))\n",
    "print_metrics(test_labels, clf.predict(test_data))"
   ]
  },
  {
   "cell_type": "code",
   "execution_count": null,
   "metadata": {
    "collapsed": true
   },
   "outputs": [],
   "source": [
    "\"\"\" Gradient Boosting \"\"\"\n",
    "from sklearn.ensemble import GradientBoostingClassifier\n",
    "losses = ['deviance', 'exponential']\n",
    "\n",
    "# ALL\n",
    "clf = GradientBoostingClassifier(loss=losses[0], n_estimators=100,  max_depth=15, learning_rate=0.1)\n",
    "%time clf = clf.fit(train_data, train_labels)\n",
    "# print_metrics(full_train_labels, clf.predict(full_train_data))\n",
    "print_metrics(test_labels, clf.predict(test_data))\n",
    "\n",
    "# SUBSAMPLE\n",
    "clf = GradientBoostingClassifier(loss=losses[0], n_estimators=100,  max_depth=25, learning_rate=0.1)\n",
    "%time clf = clf.fit(train_data_s, train_labels_s)\n",
    "# print_metrics(train_labels_s, clf.predict(train_data_s))\n",
    "print_metrics(test_labels, clf.predict(test_data))"
   ]
  },
  {
   "cell_type": "code",
   "execution_count": 98,
   "metadata": {
    "collapsed": false,
    "deletable": true,
    "editable": true
   },
   "outputs": [
    {
     "name": "stdout",
     "output_type": "stream",
     "text": [
      "Loading rows... ABU4.txt\n",
      "Errors: 0\n",
      "Loaded: 32874\n",
      "Total: 32874 Good: 31382 Faulty: 1492 Ratio: 0.0475431776177\n",
      "Train Total: 29609 Good: 28258 Faulty: 1351 Ratio: 0.0456280185079\n",
      "Test  Total: 3265 Good: 3124 Faulty: 141 Ratio: 0.0431852986217\n",
      "Re-sampling...\n",
      "Train Total: 6000 Good: 5000 Faulty: 1000 Ratio: 0.166666666667\n"
     ]
    }
   ],
   "source": [
    "\"\"\" for group experiments \"\"\"\n",
    "# mx = 50000\n",
    "# D = {}\n",
    "# for n in range(1,6+1):\n",
    "#     prod_id = \"ABU{}\".format(n)\n",
    "#     data, _, mask = load(prod_id, mx)\n",
    "#     D[prod_id] = {\n",
    "#         'data': data, \n",
    "#         'mast': mask\n",
    "#     }\n",
    "\n",
    "data, _, mask = load(\"ABU4\")\n",
    "test = data[~mask]\n",
    "test_data = test[:,2:-1].astype(np.float32)\n",
    "test_labels = np.array(test[:,-1]==_false).astype(np.int32)\n",
    "\n",
    "train = data[mask]\n",
    "faulty = train[train[:,-1]==_false]\n",
    "not_faulty = train[train[:,-1]==_true]\n",
    "\n",
    "\n",
    "\n",
    "ratio = 0.95/0.05"
   ]
  },
  {
   "cell_type": "code",
   "execution_count": 144,
   "metadata": {
    "collapsed": false,
    "deletable": true,
    "editable": true,
    "scrolled": true
   },
   "outputs": [
    {
     "name": "stdout",
     "output_type": "stream",
     "text": [
      "Total\tMCC\tHL\n",
      "199\t0.0\t0.0431852986217\n",
      "2199\t0.676046014796\t0.0229709035222\n",
      "4199\t0.829646909762\t0.0131699846861\n",
      "6199\t0.900926051839\t0.00796324655436\n",
      "8199\t0.9471091452\t0.00428790199081\n",
      "10199\t0.973852146214\t0.00214395099541\n",
      "12199\t0.97005325485\t0.00245022970904\n",
      "14199\t0.981413074288\t0.00153139356815\n",
      "16199\t0.985101752332\t0.00122511485452\n",
      "18199\t0.985101752332\t0.00122511485452\n",
      "20199\t0.992587698986\t0.000612557427259\n",
      "22199\t0.985101752332\t0.00122511485452\n",
      "24199\t0.985101752332\t0.00122511485452\n",
      "26199\t0.985101752332\t0.00122511485452\n",
      "28140\t0.985101752332\t0.00122511485452\n",
      "29609\t0.985101752332\t0.00122511485452\n",
      "29609\t0.985101752332\t0.00122511485452\n",
      "29609\t0.988850610411\t0.000918836140888\n",
      "Total\tMCC\tHL\n",
      "199\t0.0\t0.0431852986217\n",
      "2199\t0.726830722298\t0.0199081163859\n",
      "4199\t0.829192781473\t0.0131699846861\n",
      "5310\t0.900926051839\t0.00796324655436\n",
      "5410\t0.929350321433\t0.00581929555896\n",
      "5510\t0.942106096516\t0.00490045941807\n",
      "5610\t0.948908764814\t0.00428790199081\n",
      "5710\t0.960484738687\t0.00336906584992\n",
      "5810\t0.950424111368\t0.00428790199081\n",
      "5910\t0.949878192334\t0.00428790199081\n",
      "6000\t0.964317828604\t0.00306278713629\n",
      "6000\t0.960941518721\t0.00336906584992\n",
      "6000\t0.947135849532\t0.00459418070444\n",
      "6000\t0.950424111368\t0.00428790199081\n",
      "6000\t0.958138127378\t0.00367534456355\n",
      "6000\t0.948423061484\t0.00459418070444\n",
      "6000\t0.951630579577\t0.00428790199081\n",
      "6000\t0.967727744902\t0.00275650842266\n"
     ]
    }
   ],
   "source": [
    "\"\"\" Random Forest \"\"\"\n",
    "from sklearn.ensemble import RandomForestClassifier\n",
    "from sklearn import metrics\n",
    "\n",
    "clf = RandomForestClassifier(n_estimators=100, max_depth=90, n_jobs=4)\n",
    "MCCs = []\n",
    "HLs = []\n",
    "print(\"Total\\tMCC\\tHL\")\n",
    "for tr in xrange(10,1720,100):\n",
    "    small = np.concatenate((not_faulty[:int(tr*ratio)], faulty[:tr]))\n",
    "    small_data = small[:,2:-1].astype(np.float32)\n",
    "    small_labels = np.array(small[:,-1]==_false).astype(np.int32)\n",
    "    clf = clf.fit(small_data, small_labels)\n",
    "    predicted_labels = clf.predict(test_data)\n",
    "    mcc = metrics.matthews_corrcoef(test_labels, predicted_labels)\n",
    "    hl = metrics.hamming_loss(test_labels, predicted_labels)\n",
    "    print(\"{}\\t{}\\t{}\".format(len(small), mcc, hl))\n",
    "    MCCs.append(mcc)\n",
    "    HLs.append(hl)\n",
    "\n",
    "# with sub-sample    \n",
    "clf = RandomForestClassifier(n_estimators=100, max_depth=90, n_jobs=4)\n",
    "MCCs_s = []\n",
    "HLs_s = []\n",
    "subs_size = []\n",
    "print(\"Total\\tMCC\\tHL\")\n",
    "for tr in xrange(10,1720,100):\n",
    "    small = np.concatenate((not_faulty[:int(tr*ratio)], faulty[:tr]))\n",
    "    # sub-sample\n",
    "    train_s = subsample(small, quiet=True)\n",
    "    faulty_s = train_s[train_s[:,-1]==_false]\n",
    "    not_faulty_s = train_s[train_s[:,-1]==_true]\n",
    "    \n",
    "    small = np.concatenate((not_faulty_s, faulty_s))\n",
    "    subs_size.append(len(small))\n",
    "    small_data = small[:,2:-1].astype(np.float32)\n",
    "    small_labels = np.array(small[:,-1]==_false).astype(np.int32)\n",
    "    clf = clf.fit(small_data, small_labels)\n",
    "    predicted_labels = clf.predict(test_data)\n",
    "    mcc = metrics.matthews_corrcoef(test_labels, predicted_labels)\n",
    "    hl = metrics.hamming_loss(test_labels, predicted_labels)\n",
    "    print(\"{}\\t{}\\t{}\".format(len(small), mcc, hl))\n",
    "    MCCs_s.append(mcc)\n",
    "    HLs_s.append(hl)"
   ]
  },
  {
   "cell_type": "code",
   "execution_count": 115,
   "metadata": {
    "collapsed": false,
    "deletable": true,
    "editable": true,
    "scrolled": true
   },
   "outputs": [
    {
     "name": "stdout",
     "output_type": "stream",
     "text": [
      "Total\tMCC\tHL\n",
      "199\t0.12073445605\t0.054517611026\n",
      "2199\t0.764074544391\t0.0177641653905\n",
      "4199\t0.838300993625\t0.0125574272588\n",
      "6199\t0.900926051839\t0.00796324655436\n",
      "8199\t0.962538333133\t0.00306278713629\n",
      "10199\t0.973852146214\t0.00214395099541\n",
      "12199\t0.966363304819\t0.00275650842266\n",
      "14199\t0.973975538166\t0.00214395099541\n",
      "16199\t0.97005325485\t0.00245022970904\n",
      "18199\t0.973783176925\t0.00214395099541\n",
      "20199\t0.985101752332\t0.00122511485452\n",
      "22199\t0.977568176567\t0.00183767228178\n",
      "24199\t0.988850610411\t0.000918836140888\n",
      "26199\t0.992587698986\t0.000612557427259\n",
      "28140\t0.985101752332\t0.00122511485452\n",
      "29609\t0.981413074288\t0.00153139356815\n",
      "29609\t0.97005325485\t0.00245022970904\n",
      "29609\t0.973852146214\t0.00214395099541\n",
      "Total\tMCC\tHL\n",
      "199\t0.104970484058\t0.0563552833078\n",
      "2199\t0.775983865113\t0.0168453292496\n",
      "4199\t0.827019606404\t0.0134762633997\n",
      "5310\t0.898370235417\t0.00826952526799\n",
      "5410\t0.951662929799\t0.00398162327718\n",
      "5510\t0.956222796182\t0.00367534456355\n",
      "5610\t0.950424111368\t0.00428790199081\n",
      "5710\t0.961439166339\t0.00336906584992\n",
      "5810\t0.921931006203\t0.00704441041348\n",
      "5910\t0.918910915035\t0.00735068912711\n",
      "6000\t0.942098097732\t0.0052067381317\n",
      "6000\t0.951630579577\t0.00428790199081\n",
      "6000\t0.94454505395\t0.00490045941807\n",
      "6000\t0.961439166339\t0.00336906584992\n",
      "6000\t0.935076774824\t0.00581929555896\n",
      "6000\t0.951630579577\t0.00428790199081\n",
      "6000\t0.946547785226\t0.00459418070444\n",
      "6000\t0.951630579577\t0.00428790199081\n"
     ]
    }
   ],
   "source": [
    "from sklearn.ensemble import GradientBoostingClassifier\n",
    "from sklearn import metrics\n",
    "\n",
    "clf = GradientBoostingClassifier(loss='deviance', n_estimators=100,  max_depth=15, learning_rate=0.1)\n",
    "GBMCCs = []\n",
    "GBHLs = []\n",
    "print(\"Total\\tMCC\\tHL\")\n",
    "for tr in xrange(10,1720,100):\n",
    "    small = np.concatenate((not_faulty[:int(tr*ratio)], faulty[:tr]))\n",
    "    small_data = small[:,2:-1].astype(np.float32)\n",
    "    small_labels = np.array(small[:,-1]==_false).astype(np.int32)\n",
    "    clf = clf.fit(small_data, small_labels)\n",
    "    predicted_labels = clf.predict(test_data)\n",
    "    mcc = metrics.matthews_corrcoef(test_labels, predicted_labels)\n",
    "    hl = metrics.hamming_loss(test_labels, predicted_labels)\n",
    "    print(\"{}\\t{}\\t{}\".format(len(small), mcc, hl))\n",
    "    GBMCCs.append(mcc)\n",
    "    GBHLs.append(hl)\n",
    "    \n",
    "# with sub-sample\n",
    "clf = GradientBoostingClassifier(loss='deviance', n_estimators=100,  max_depth=25, learning_rate=0.1)\n",
    "GBMCCs_s = []\n",
    "GBHLs_s = []\n",
    "print(\"Total\\tMCC\\tHL\")\n",
    "for tr in xrange(10,1720,100):\n",
    "    small = np.concatenate((not_faulty[:int(tr*ratio)], faulty[:tr]))\n",
    "    # sub-sample\n",
    "    train_s = subsample(small, quiet=True)\n",
    "    faulty_s = train_s[train_s[:,-1]==_false]\n",
    "    not_faulty_s = train_s[train_s[:,-1]==_true]\n",
    "    \n",
    "    small = np.concatenate((not_faulty_s, faulty_s))\n",
    "    small_data = small[:,2:-1].astype(np.float32)\n",
    "    small_labels = np.array(small[:,-1]==_false).astype(np.int32)\n",
    "    clf = clf.fit(small_data, small_labels)\n",
    "    predicted_labels = clf.predict(test_data)\n",
    "    mcc = metrics.matthews_corrcoef(test_labels, predicted_labels)\n",
    "    hl = metrics.hamming_loss(test_labels, predicted_labels)\n",
    "    print(\"{}\\t{}\\t{}\".format(len(small), mcc, hl))\n",
    "    GBMCCs_s.append(mcc)\n",
    "    GBHLs_s.append(hl)"
   ]
  },
  {
   "cell_type": "code",
   "execution_count": 198,
   "metadata": {
    "collapsed": false,
    "deletable": true,
    "editable": true
   },
   "outputs": [
    {
     "data": {
      "image/png": "[encoded data removed]",
      "text/plain": [
       "<matplotlib.figure.Figure at 0x2c2a3d68>"
      ]
     },
     "metadata": {},
     "output_type": "display_data"
    }
   ],
   "source": [
    "from IPython.display import set_matplotlib_formats\n",
    "set_matplotlib_formats('png', quality=100)\n",
    "\n",
    "rrange = xrange(0,30000,int(np.ceil(30000/17)))\n",
    "fig = plt.figure()\n",
    "\n",
    "ax1 = fig.add_subplot(111)\n",
    "ax1.set_ylabel('Matthew\\'s Correlation Coefficient (MCC)')\n",
    "\n",
    "\n",
    "ax1.set_xlabel(\"Total Datapoints\")\n",
    "p = ax1.plot(rrange, MCCs, label=\"Random Forests\", color=\"black\")\n",
    "ax1.axhline(y=0.9, color='g', linestyle='dashed', alpha=.5)\n",
    "ax1.grid(True)\n",
    "ax1.legend(loc=4)\n",
    "# for xy in zip(rrange, MCCs):  \n",
    "#     ax1.annotate(\"%.2f\"%xy[1], xy=xy, textcoords='data')\n",
    "\n",
    "ax3 = fig.add_subplot(111)\n",
    "ax3.plot(rrange, GBMCCs, label=\"Gradient Boosting\", color=\"black\", linestyle='--')\n",
    "ax3.legend(loc=4)\n",
    "\n",
    "ax5 = fig.add_subplot(111)\n",
    "ax5.plot(rrange, MCCs_s, label=\"Random Forests (subs.)\", color=\"black\", linestyle=':')\n",
    "ax5.legend(loc=4)\n",
    "\n",
    "ax5 = fig.add_subplot(111)\n",
    "ax5.plot(rrange, GBMCCs_s, label=\"Gradient Boosting (subs.)\", color=\"black\", linestyle='-.')\n",
    "ax5.legend(loc=4)\n",
    "\n",
    "# ax2 = ax1.twiny()\n",
    "# ax2.cla()\n",
    "# ax2.set_xlabel('Sub-sample Datapoints')\n",
    "# ax2.plot(subs_size,np.ones(18), alpha=.0)\n",
    "# print subs_size\n",
    "\n",
    "plt.show()"
   ]
  },
  {
   "cell_type": "code",
   "execution_count": 199,
   "metadata": {
    "collapsed": false
   },
   "outputs": [
    {
     "data": {
      "image/png": "[encoded data removed]",
      "text/plain": [
       "<matplotlib.figure.Figure at 0x10df70b8>"
      ]
     },
     "metadata": {},
     "output_type": "display_data"
    }
   ],
   "source": [
    "from IPython.display import set_matplotlib_formats\n",
    "set_matplotlib_formats('png', quality=100)\n",
    "\n",
    "rrange = xrange(0,30000,int(np.ceil(30000/17)))\n",
    "fig = plt.figure()\n",
    "\n",
    "ax1 = fig.add_subplot(111)\n",
    "ax1.set_ylabel('Hamming Loss')\n",
    "\n",
    "\n",
    "ax1.set_xlabel(\"Total Datapoints\")\n",
    "p = ax1.plot(rrange, HLs, label=\"Random Forests\", color=\"black\")\n",
    "# ax1.axhline(y=0.9, color='g', linestyle='dashed', alpha=.5)\n",
    "ax1.grid(True)\n",
    "ax1.legend(loc=1)\n",
    "# ax1.set_autoscaley_on(False)\n",
    "# ax1.set_ylim([0.0,0.06])\n",
    "\n",
    "ax3 = fig.add_subplot(111)\n",
    "ax3.plot(rrange, GBHLs, label=\"Gradient Boosting\", color=\"black\", linestyle='--')\n",
    "ax3.legend(loc=1)\n",
    "\n",
    "ax5 = fig.add_subplot(111)\n",
    "ax5.plot(rrange, HLs_s, label=\"Random Forests (subs.)\", color=\"black\", linestyle=':')\n",
    "ax5.legend(loc=1)\n",
    "\n",
    "ax5 = fig.add_subplot(111)\n",
    "ax5.plot(rrange, GBHLs_s, label=\"Gradient Boosting (subs.)\", color=\"black\", linestyle='-.')\n",
    "ax5.legend(loc=1)\n",
    "\n",
    "plt.show()"
   ]
  },
  {
   "cell_type": "code",
   "execution_count": 200,
   "metadata": {
    "collapsed": false,
    "deletable": true,
    "editable": true
   },
   "outputs": [
    {
     "data": {
      "image/png": "[encoded data removed]",
      "text/plain": [
       "<matplotlib.figure.Figure at 0x2c581e48>"
      ]
     },
     "metadata": {},
     "output_type": "display_data"
    }
   ],
   "source": [
    "from IPython.display import set_matplotlib_formats\n",
    "set_matplotlib_formats('png', quality=100)\n",
    "\n",
    "rrange = xrange(0,30000,int(np.ceil(30000/17)))\n",
    "arange = xrange(0,18,1)\n",
    "fig = plt.figure()\n",
    "\n",
    "ax1 = fig.add_subplot(111)\n",
    "ax1.set_ylabel('Datapoints')\n",
    "ax1.set_xlabel('Available Chunks')\n",
    "p = ax1.plot(arange, rrange, label=\"Train Set\", color=\"black\")\n",
    "ax1.grid(True)\n",
    "ax1.legend(loc=4)\n",
    "\n",
    "ax3 = fig.add_subplot(111)\n",
    "ax3.plot(arange, subs_size, label=\"Sub-sampled Train Set\", color=\"black\", linestyle='--')\n",
    "ax3.legend(loc=4)\n",
    "\n",
    "plt.show()"
   ]
  },
  {
   "cell_type": "code",
   "execution_count": null,
   "metadata": {
    "collapsed": true
   },
   "outputs": [],
   "source": []
  }
 ],
 "metadata": {
  "anaconda-cloud": {},
  "kernelspec": {
   "display_name": "Python [conda root]",
   "language": "python",
   "name": "conda-root-py"
  },
  "language_info": {
   "codemirror_mode": {
    "name": "ipython",
    "version": 2
   },
   "file_extension": ".py",
   "mimetype": "text/x-python",
   "name": "python",
   "nbconvert_exporter": "python",
   "pygments_lexer": "ipython2",
   "version": "2.7.13"
  }
 },
 "nbformat": 4,
 "nbformat_minor": 0
}

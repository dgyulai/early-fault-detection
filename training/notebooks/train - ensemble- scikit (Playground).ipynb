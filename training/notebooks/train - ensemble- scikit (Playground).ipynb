{
 "cells": [
  {
   "cell_type": "code",
   "execution_count": 1,
   "metadata": {
    "collapsed": false
   },
   "outputs": [],
   "source": [
    "%matplotlib notebook\n",
    "#%matplotlib inline\n",
    "\n",
    "import copy\n",
    "import numpy as np\n",
    "import random\n",
    "import matplotlib.pyplot as plt\n",
    "from _converter import SensorThings2Dict\n",
    "from _evaluation import print_metrics"
   ]
  },
  {
   "cell_type": "code",
   "execution_count": 2,
   "metadata": {
    "collapsed": false
   },
   "outputs": [
    {
     "name": "stdout",
     "output_type": "stream",
     "text": [
      "Loading rows...\n",
      "Incomplete rows: 170\n",
      "Loaded: 30768\n"
     ]
    }
   ],
   "source": [
    "files = [\"ABU1.txt\", \"ABU1.2.txt\"]\n",
    "data = []\n",
    "bad = 0\n",
    "for filename in files:\n",
    "    print(\"Loading rows... {}\".format(filename))\n",
    "    with open(filename) as f:\n",
    "        for line in f:\n",
    "            try:\n",
    "                features = SensorThings2Dict(json.loads(line))\n",
    "                data.append(list(features.values()))\n",
    "            except Exception, e:\n",
    "                bad+=1\n",
    "\n",
    "print(\"Incomplete rows: {}\".format(bad))\n",
    "print(\"Loaded: {}\".format(len(data)))\n",
    "\n",
    "\"\"\" random split seed \"\"\"\n",
    "data = np.asarray(data)\n",
    "#print(data[:,2:-1])\n",
    "# numerics = data[:,2:-1]\n",
    "# for n in numerics[data[:,-1]=='True']:\n",
    "#     plt.plot(n);\n",
    "mask = np.random.rand(len(data)) < 0.9"
   ]
  },
  {
   "cell_type": "code",
   "execution_count": 3,
   "metadata": {
    "collapsed": false
   },
   "outputs": [
    {
     "name": "stdout",
     "output_type": "stream",
     "text": [
      "Train Total: 27615 Good: 26027 Faulty: 1588 Ratio: 0.057504979178\n",
      "Test  Total: 3153 Good: 2956 Faulty: 197 Ratio: 0.00713380409198\n"
     ]
    }
   ],
   "source": [
    "\"\"\" split into train and test sets \"\"\"\n",
    "train = data[mask]\n",
    "test = data[~mask]\n",
    "print(\"Train Total: {} Good: {} Faulty: {} Ratio: {}\".format(len(train), len(train[train[:,-1]=='True']), len(train[train[:,-1]=='False']), float(len(train[train[:,-1]=='False']))/len(train)))\n",
    "print(\"Test  Total: {} Good: {} Faulty: {} Ratio: {}\".format(len(test), len(test[test[:,-1]=='True']), len(test[test[:,-1]=='False']), float(len(test[test[:,-1]=='False']))/len(train)))\n",
    "\n",
    "faulty = train[train[:,-1]=='False']\n",
    "not_faulty = train[train[:,-1]=='True']\n",
    "\n",
    "means = np.mean(not_faulty[:,2:-1].astype(np.float32), axis=0)"
   ]
  },
  {
   "cell_type": "code",
   "execution_count": 4,
   "metadata": {
    "collapsed": false
   },
   "outputs": [
    {
     "name": "stdout",
     "output_type": "stream",
     "text": [
      "Train Total: 6588 Good: 5000 Faulty: 1588 Ratio: 0.241044323012\n"
     ]
    }
   ],
   "source": [
    "\"\"\" down/up sample data \"\"\"\n",
    "# train = np.concatenate((not_faulty[:len(faulty)*5], faulty))\n",
    "samples = np.random.choice(len(not_faulty), 5000, replace=False)\n",
    "train = np.concatenate((not_faulty[samples], faulty))\n",
    "print(\"Train Total: {} Good: {} Faulty: {} Ratio: {}\".format(len(train), len(train[train[:,-1]=='True']), len(train[train[:,-1]=='False']), float(len(train[train[:,-1]=='False']))/len(train)))\n",
    "\n",
    "train_data = train[:,2:-1].astype(np.float32)\n",
    "test_data = test[:,2:-1].astype(np.float32)\n",
    "\"\"\"\n",
    "Quality_OK is mapped to Faultiness\n",
    "    'False' -> 1 (Faulty)\n",
    "    'True'  -> 0 (Good)\n",
    "\"\"\"\n",
    "train_labels = np.array(train[:,-1]=='False').astype(np.int32)\n",
    "test_labels = np.array(test[:,-1]=='False').astype(np.int32)"
   ]
  },
  {
   "cell_type": "code",
   "execution_count": 26,
   "metadata": {
    "collapsed": false
   },
   "outputs": [
    {
     "name": "stdout",
     "output_type": "stream",
     "text": [
      "(51L,)\n",
      "(1L, 3068L, 2L)\n"
     ]
    }
   ],
   "source": [
    "\"\"\" Train for different feature spaces \"\"\"\n",
    "from sklearn.tree import DecisionTreeClassifier\n",
    "from sklearn.ensemble import RandomForestClassifier\n",
    "\n",
    "# ratio = float(len(train[train[:,-1]=='False']))/len(train)\n",
    "criteria = [\"gini\", \"entropy\"]\n",
    "clf = DecisionTreeClassifier(criterion=criteria[0], random_state=1, max_depth=100,  class_weight={0:1.0, 1:0.05})\n",
    "# clf = RandomForestClassifier(n_estimators=10,  class_weight={0:1.0, 1:0.05}, max_depth=90, n_jobs=4)\n",
    "\n",
    "preds = []\n",
    "choices = np.arange(30,51+1, 5)\n",
    "ensemples_per_feature_space = 1\n",
    "for i,c in enumerate(choices):\n",
    "    # train multiple trees for each f-space\n",
    "    for _ in range(ensemples_per_feature_space):\n",
    "#         r = np.random.choice(c, c*4/5, replace=False)\n",
    "        r = np.arange(0,c)\n",
    "        print(r.shape)\n",
    "        clf.fit(train_data[:,r], train_labels)\n",
    "        preds.append(clf.predict_proba(test_data[:,r]))\n",
    "preds = np.asarray(preds)\n",
    "print(preds.shape)"
   ]
  },
  {
   "cell_type": "code",
   "execution_count": 201,
   "metadata": {
    "collapsed": false
   },
   "outputs": [
    {
     "name": "stdout",
     "output_type": "stream",
     "text": [
      "29\n",
      "[ 1  3  6  8 11]\n",
      "------------------------- EVALUATION -------------------------\n",
      "             precision    recall  f1-score   support\n",
      "\n",
      "          0       1.00      0.99      1.00      2848\n",
      "          1       0.91      0.97      0.94       201\n",
      "\n",
      "avg / total       0.99      0.99      0.99      3049\n",
      "\n",
      "Confusion Matrix:\n"
     ]
    },
    {
     "data": {
      "text/html": [
       "<div>\n",
       "<table border=\"1\" class=\"dataframe\">\n",
       "  <thead>\n",
       "    <tr style=\"text-align: right;\">\n",
       "      <th></th>\n",
       "      <th>0</th>\n",
       "      <th>1</th>\n",
       "    </tr>\n",
       "  </thead>\n",
       "  <tbody>\n",
       "    <tr>\n",
       "      <th>0</th>\n",
       "      <td>2828</td>\n",
       "      <td>20</td>\n",
       "    </tr>\n",
       "    <tr>\n",
       "      <th>1</th>\n",
       "      <td>6</td>\n",
       "      <td>195</td>\n",
       "    </tr>\n",
       "  </tbody>\n",
       "</table>\n",
       "</div>"
      ],
      "text/plain": [
       "      0    1\n",
       "0  2828   20\n",
       "1     6  195"
      ]
     },
     "metadata": {},
     "output_type": "display_data"
    },
    {
     "name": "stdout",
     "output_type": "stream",
     "text": [
      "Matthews Correlation Coefficient: 0.933538703002\n",
      "--------------------------------------------------------------\n"
     ]
    }
   ],
   "source": [
    "# calculate weight for each tree\n",
    "weights = (choices/2)-14\n",
    "print(np.sum(weights))\n",
    "print(weights)\n",
    "# take weighted average of predictions\n",
    "# m = np.average(preds, axis=0, weights=np.repeat(weights, ensemples_per_feature_space, axis=0))\n",
    "m = preds[-1]\n",
    "predictions = (m[:,0]<m[:,1]).astype(np.int32)\n",
    "print_metrics(test_labels, predictions)"
   ]
  },
  {
   "cell_type": "code",
   "execution_count": 137,
   "metadata": {
    "collapsed": false
   },
   "outputs": [],
   "source": [
    "# \"\"\" ExtraTreeClassifier \"\"\"\n",
    "# from sklearn.tree import ExtraTreeClassifier\n",
    "\n",
    "# # ratio = float(len(train[train[:,-1]=='False']))/len(train)\n",
    "# clf = ExtraTreeClassifier(max_depth=70)\n",
    "# %time t = clf.fit(train_data, train_labels)\n",
    "\n",
    "# print_metrics(train_labels, clf.predict(train_data))\n",
    "# print_metrics(test_labels, clf.predict(test_data))"
   ]
  },
  {
   "cell_type": "code",
   "execution_count": 11,
   "metadata": {
    "collapsed": false
   },
   "outputs": [
    {
     "name": "stdout",
     "output_type": "stream",
     "text": [
      "Wall time: 4.22 s\n",
      "------------------------- EVALUATION -------------------------\n",
      "             precision    recall  f1-score   support\n",
      "\n",
      "          0       0.99      1.00      1.00      5000\n",
      "          1       1.00      0.97      0.99      1588\n",
      "\n",
      "avg / total       0.99      0.99      0.99      6588\n",
      "\n",
      "Confusion Matrix:\n"
     ]
    },
    {
     "data": {
      "text/html": [
       "<div>\n",
       "<table border=\"1\" class=\"dataframe\">\n",
       "  <thead>\n",
       "    <tr style=\"text-align: right;\">\n",
       "      <th></th>\n",
       "      <th>0</th>\n",
       "      <th>1</th>\n",
       "    </tr>\n",
       "  </thead>\n",
       "  <tbody>\n",
       "    <tr>\n",
       "      <th>0</th>\n",
       "      <td>5000</td>\n",
       "      <td>0</td>\n",
       "    </tr>\n",
       "    <tr>\n",
       "      <th>1</th>\n",
       "      <td>42</td>\n",
       "      <td>1546</td>\n",
       "    </tr>\n",
       "  </tbody>\n",
       "</table>\n",
       "</div>"
      ],
      "text/plain": [
       "      0     1\n",
       "0  5000     0\n",
       "1    42  1546"
      ]
     },
     "metadata": {},
     "output_type": "display_data"
    },
    {
     "name": "stdout",
     "output_type": "stream",
     "text": [
      "Matthews Correlation Coefficient: 0.982569043431\n",
      "--------------------------------------------------------------\n",
      "------------------------- EVALUATION -------------------------\n",
      "             precision    recall  f1-score   support\n",
      "\n",
      "          0       1.00      0.99      0.99      2956\n",
      "          1       0.89      0.94      0.92       197\n",
      "\n",
      "avg / total       0.99      0.99      0.99      3153\n",
      "\n",
      "Confusion Matrix:\n"
     ]
    },
    {
     "data": {
      "text/html": [
       "<div>\n",
       "<table border=\"1\" class=\"dataframe\">\n",
       "  <thead>\n",
       "    <tr style=\"text-align: right;\">\n",
       "      <th></th>\n",
       "      <th>0</th>\n",
       "      <th>1</th>\n",
       "    </tr>\n",
       "  </thead>\n",
       "  <tbody>\n",
       "    <tr>\n",
       "      <th>0</th>\n",
       "      <td>2934</td>\n",
       "      <td>22</td>\n",
       "    </tr>\n",
       "    <tr>\n",
       "      <th>1</th>\n",
       "      <td>11</td>\n",
       "      <td>186</td>\n",
       "    </tr>\n",
       "  </tbody>\n",
       "</table>\n",
       "</div>"
      ],
      "text/plain": [
       "      0    1\n",
       "0  2934   22\n",
       "1    11  186"
      ]
     },
     "metadata": {},
     "output_type": "display_data"
    },
    {
     "name": "stdout",
     "output_type": "stream",
     "text": [
      "Matthews Correlation Coefficient: 0.913315396951\n",
      "--------------------------------------------------------------\n"
     ]
    }
   ],
   "source": [
    "\"\"\" Random Forest \"\"\"\n",
    "from sklearn.ensemble import RandomForestClassifier\n",
    "\n",
    "clf = RandomForestClassifier(n_estimators=100,  class_weight={0:1.0, 1:0.05}, max_depth=90, n_jobs=4)\n",
    "\n",
    "%time clf = clf.fit(train_data, train_labels)\n",
    "print_metrics(train_labels, clf.predict(train_data))\n",
    "print_metrics(test_labels, clf.predict(test_data))"
   ]
  },
  {
   "cell_type": "code",
   "execution_count": 17,
   "metadata": {
    "collapsed": false
   },
   "outputs": [
    {
     "name": "stdout",
     "output_type": "stream",
     "text": [
      "Wall time: 4.16 s\n",
      "------------------------- EVALUATION -------------------------\n",
      "             precision    recall  f1-score   support\n",
      "\n",
      "          0       1.00      1.00      1.00      5000\n",
      "          1       1.00      0.99      1.00      1605\n",
      "\n",
      "avg / total       1.00      1.00      1.00      6605\n",
      "\n",
      "Confusion Matrix:\n"
     ]
    },
    {
     "data": {
      "text/html": [
       "<div>\n",
       "<table border=\"1\" class=\"dataframe\">\n",
       "  <thead>\n",
       "    <tr style=\"text-align: right;\">\n",
       "      <th></th>\n",
       "      <th>0</th>\n",
       "      <th>1</th>\n",
       "    </tr>\n",
       "  </thead>\n",
       "  <tbody>\n",
       "    <tr>\n",
       "      <th>0</th>\n",
       "      <td>5000</td>\n",
       "      <td>0</td>\n",
       "    </tr>\n",
       "    <tr>\n",
       "      <th>1</th>\n",
       "      <td>15</td>\n",
       "      <td>1590</td>\n",
       "    </tr>\n",
       "  </tbody>\n",
       "</table>\n",
       "</div>"
      ],
      "text/plain": [
       "      0     1\n",
       "0  5000     0\n",
       "1    15  1590"
      ]
     },
     "metadata": {},
     "output_type": "display_data"
    },
    {
     "name": "stdout",
     "output_type": "stream",
     "text": [
      "Matthews Correlation Coefficient: 0.993826510117\n",
      "--------------------------------------------------------------\n",
      "------------------------- EVALUATION -------------------------\n",
      "             precision    recall  f1-score   support\n",
      "\n",
      "          0       1.00      0.99      1.00      2877\n",
      "          1       0.92      0.99      0.95       180\n",
      "\n",
      "avg / total       0.99      0.99      0.99      3057\n",
      "\n",
      "Confusion Matrix:\n"
     ]
    },
    {
     "data": {
      "text/html": [
       "<div>\n",
       "<table border=\"1\" class=\"dataframe\">\n",
       "  <thead>\n",
       "    <tr style=\"text-align: right;\">\n",
       "      <th></th>\n",
       "      <th>0</th>\n",
       "      <th>1</th>\n",
       "    </tr>\n",
       "  </thead>\n",
       "  <tbody>\n",
       "    <tr>\n",
       "      <th>0</th>\n",
       "      <td>2861</td>\n",
       "      <td>16</td>\n",
       "    </tr>\n",
       "    <tr>\n",
       "      <th>1</th>\n",
       "      <td>1</td>\n",
       "      <td>179</td>\n",
       "    </tr>\n",
       "  </tbody>\n",
       "</table>\n",
       "</div>"
      ],
      "text/plain": [
       "      0    1\n",
       "0  2861   16\n",
       "1     1  179"
      ]
     },
     "metadata": {},
     "output_type": "display_data"
    },
    {
     "name": "stdout",
     "output_type": "stream",
     "text": [
      "Matthews Correlation Coefficient: 0.952574641858\n",
      "--------------------------------------------------------------\n",
      "------------------------- EVALUATION -------------------------\n",
      "             precision    recall  f1-score   support\n",
      "\n",
      "          0       1.00      1.00      1.00      2877\n",
      "          1       0.00      0.00      0.00         0\n",
      "\n",
      "avg / total       1.00      1.00      1.00      2877\n",
      "\n",
      "Confusion Matrix:\n"
     ]
    },
    {
     "data": {
      "text/html": [
       "<div>\n",
       "<table border=\"1\" class=\"dataframe\">\n",
       "  <thead>\n",
       "    <tr style=\"text-align: right;\">\n",
       "      <th></th>\n",
       "      <th>0</th>\n",
       "      <th>1</th>\n",
       "    </tr>\n",
       "  </thead>\n",
       "  <tbody>\n",
       "    <tr>\n",
       "      <th>0</th>\n",
       "      <td>2868</td>\n",
       "      <td>9</td>\n",
       "    </tr>\n",
       "    <tr>\n",
       "      <th>1</th>\n",
       "      <td>0</td>\n",
       "      <td>0</td>\n",
       "    </tr>\n",
       "  </tbody>\n",
       "</table>\n",
       "</div>"
      ],
      "text/plain": [
       "      0  1\n",
       "0  2868  9\n",
       "1     0  0"
      ]
     },
     "metadata": {},
     "output_type": "display_data"
    },
    {
     "name": "stdout",
     "output_type": "stream",
     "text": [
      "Matthews Correlation Coefficient: 0.0\n",
      "--------------------------------------------------------------\n"
     ]
    }
   ],
   "source": [
    "\"\"\" Fill remaining features with means \"\"\"\n",
    "from sklearn.ensemble import RandomForestClassifier\n",
    "\n",
    "clf = RandomForestClassifier(n_estimators=100,  class_weight={0:1.0, 1:0.05}, max_depth=90, n_jobs=4)\n",
    "\n",
    "%time clf = clf.fit(train_data, train_labels)\n",
    "print_metrics(train_labels, clf.predict(train_data))\n",
    "print_metrics(test_labels, clf.predict(test_data))\n",
    "\n",
    "f = np.where(test_labels==0)[0]\n",
    "partial_test = copy.deepcopy(test_data[f])\n",
    "\n",
    "for r in partial_test:\n",
    "    r[30:] = means[30:]\n",
    "print_metrics(test_labels[f], clf.predict(partial_test))"
   ]
  },
  {
   "cell_type": "code",
   "execution_count": 12,
   "metadata": {
    "collapsed": false
   },
   "outputs": [
    {
     "name": "stderr",
     "output_type": "stream",
     "text": [
      "C:\\Users\\Farshid\\Anaconda2\\envs\\python2\\lib\\site-packages\\sklearn\\utils\\validation.py:395: DeprecationWarning: Passing 1d arrays as data is deprecated in 0.17 and will raise ValueError in 0.19. Reshape your data either using X.reshape(-1, 1) if your data has a single feature or X.reshape(1, -1) if it contains a single sample.\n",
      "  DeprecationWarning)\n"
     ]
    },
    {
     "data": {
      "text/plain": [
       "array([1])"
      ]
     },
     "execution_count": 12,
     "metadata": {},
     "output_type": "execute_result"
    }
   ],
   "source": [
    "feature_data = copy.deepcopy(means)\n",
    "line = '{\"ResultValue\": {\"total\": 7, \"measurements\": {\"bn\": \"SMTLine/B202/P29063050/\", \"e\": [{\"v\": 100, \"u\": \"mm\", \"t\": 1481017764434, \"n\": \"ScreenPrinter/PositionX\"}, {\"v\": 200.15, \"u\": \"mm\", \"t\": 1481017764450, \"n\": \"ScreenPrinter/PositionY\"}, {\"v\": 42.92, \"u\": \"mm\", \"t\": 1481017776092, \"n\": \"PasteInspection/PosX1\"}, {\"v\": 21.95, \"u\": \"mm\", \"t\": 1481017776108, \"n\": \"PasteInspection/PosY1\"}, {\"v\": 31.84, \"u\": \"mm\", \"t\": 1481017776109, \"n\": \"PasteInspection/PosX2\"}, {\"v\": 54.96, \"u\": \"mm\", \"t\": 1481017776109, \"n\": \"PasteInspection/PosY2\"}, {\"v\": 20.92, \"u\": \"mm\", \"t\": 1481017776109, \"n\": \"PasteInspection/PosX3\"}]}, \"type\": {\"bt\": 2297529600, \"bn\": \"SMTLine/B202/P29063050/\", \"e\": [{\"t\": 1481017712576, \"sv\": \"ABU2\", \"n\": \"Source/ProdType\"}]}}}'\n",
    "features = SensorThings2Dict(line, complete=False)\n",
    "# convert measurements to numpy array\n",
    "r = np.asarray(features.values())[2:-1].astype(np.float32)\n",
    "# fill nans with global means\n",
    "w = np.where(np.isnan(r))\n",
    "r[w] = means[w]\n",
    "clf.predict(r)"
   ]
  },
  {
   "cell_type": "code",
   "execution_count": 23,
   "metadata": {
    "collapsed": false
   },
   "outputs": [
    {
     "data": {
      "text/plain": [
       "'ScreenPrinter'"
      ]
     },
     "execution_count": 23,
     "metadata": {},
     "output_type": "execute_result"
    }
   ],
   "source": [
    "\"ScreenPrinter/PositionX\".partition('/')[0]"
   ]
  },
  {
   "cell_type": "code",
   "execution_count": null,
   "metadata": {
    "collapsed": true
   },
   "outputs": [],
   "source": []
  }
 ],
 "metadata": {
  "anaconda-cloud": {},
  "kernelspec": {
   "display_name": "Python [python2]",
   "language": "python",
   "name": "Python [python2]"
  },
  "language_info": {
   "codemirror_mode": {
    "name": "ipython",
    "version": 2
   },
   "file_extension": ".py",
   "mimetype": "text/x-python",
   "name": "python",
   "nbconvert_exporter": "python",
   "pygments_lexer": "ipython2",
   "version": "2.7.12"
  }
 },
 "nbformat": 4,
 "nbformat_minor": 0
}

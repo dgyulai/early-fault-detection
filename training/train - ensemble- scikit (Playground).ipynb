{
 "cells": [
  {
   "cell_type": "code",
   "execution_count": 2,
   "metadata": {
    "collapsed": false
   },
   "outputs": [],
   "source": [
    "%matplotlib notebook\n",
    "#%matplotlib inline\n",
    "\n",
    "import copy\n",
    "import numpy as np\n",
    "import random\n",
    "import matplotlib.pyplot as plt\n",
    "from _converter import SensorThings2Dict\n",
    "from _plotter import plot_confusion_matrix"
   ]
  },
  {
   "cell_type": "code",
   "execution_count": 3,
   "metadata": {
    "collapsed": false
   },
   "outputs": [
    {
     "name": "stdout",
     "output_type": "stream",
     "text": [
      "Loading rows...\n",
      "Incomplete rows: 170\n",
      "Loaded: 30768\n"
     ]
    }
   ],
   "source": [
    "print(\"Loading rows...\")\n",
    "with open(\"ABU1.txt\") as f:\n",
    "    data = []\n",
    "    bad = 0\n",
    "    for line in f:\n",
    "        try:\n",
    "            features = SensorThings2Dict(line)\n",
    "            data.append(list(features.values()))\n",
    "        except Exception, e:\n",
    "            bad+=1\n",
    "print(\"Incomplete rows: {}\".format(bad))\n",
    "print(\"Loaded: {}\".format(len(data)))\n",
    "\n",
    "\"\"\" random split seed \"\"\"\n",
    "data = np.asarray(data)\n",
    "#print(data[:,2:-1])\n",
    "# numerics = data[:,2:-1]\n",
    "# for n in numerics[data[:,-1]=='True']:\n",
    "#     plt.plot(n);\n",
    "mask = np.random.rand(len(data)) < 0.9"
   ]
  },
  {
   "cell_type": "code",
   "execution_count": 185,
   "metadata": {
    "collapsed": false
   },
   "outputs": [
    {
     "name": "stdout",
     "output_type": "stream",
     "text": [
      "Train Total: 27719 Good: 26135 Faulty: 1584 Ratio: 0.0571449186479\n",
      "Test  Total: 3049 Good: 2848 Faulty: 201 Ratio: 0.00725134384357\n",
      "Train Total: 6584 Good: 5000 Faulty: 1584 Ratio: 0.240583232078\n"
     ]
    }
   ],
   "source": [
    "train = data[mask]\n",
    "test = data[~mask]\n",
    "print(\"Train Total: {} Good: {} Faulty: {} Ratio: {}\".format(len(train), len(train[train[:,-1]=='True']), len(train[train[:,-1]=='False']), float(len(train[train[:,-1]=='False']))/len(train)))\n",
    "print(\"Test  Total: {} Good: {} Faulty: {} Ratio: {}\".format(len(test), len(test[test[:,-1]=='True']), len(test[test[:,-1]=='False']), float(len(test[test[:,-1]=='False']))/len(train)))\n",
    "\n",
    "faulty = train[train[:,-1]=='False']\n",
    "not_faulty = train[train[:,-1]=='True']\n",
    "# train = np.concatenate((not_faulty[:len(faulty)*5], faulty))\n",
    "samples = np.random.choice(len(not_faulty), 5000, replace=False)\n",
    "train = np.concatenate((not_faulty[samples], faulty))\n",
    "print(\"Train Total: {} Good: {} Faulty: {} Ratio: {}\".format(len(train), len(train[train[:,-1]=='True']), len(train[train[:,-1]=='False']), float(len(train[train[:,-1]=='False']))/len(train)))\n",
    "\n",
    "train_data = train[:,2:-1].astype(np.float32)\n",
    "test_data = test[:,2:-1].astype(np.float32)\n",
    "\"\"\"\n",
    "Quality_OK is mapped to Faultiness\n",
    "    'False' -> 1 (Faulty)\n",
    "    'True'  -> 0 (Good)\n",
    "\"\"\"\n",
    "train_labels = np.array(train[:,-1]=='False').astype(np.int32)\n",
    "test_labels = np.array(test[:,-1]=='False').astype(np.int32)"
   ]
  },
  {
   "cell_type": "code",
   "execution_count": 186,
   "metadata": {
    "collapsed": true
   },
   "outputs": [],
   "source": [
    "from sklearn import metrics\n",
    "from IPython.display import display, HTML\n",
    "import pandas as pd\n",
    "\n",
    "def eval_metrics(expected, predicted):\n",
    "    print(\"------------------------- EVALUATION -------------------------\")\n",
    "#     print(\"Accuracy Score: {}\".format(metrics.accuracy_score(expected, predicted)))\n",
    "    print(metrics.classification_report(expected, predicted))\n",
    "    print(\"Confusion Matrix:\")\n",
    "#     print(metrics.confusion_matrix(expected, predicted))\n",
    "    display(pd.DataFrame(metrics.confusion_matrix(expected, predicted)))\n",
    "#     print(\"Kappa Score: {}\".format(metrics.cohen_kappa_score(expected, predicted)))\n",
    "    print(\"Matthews Correlation Coefficient: {}\".format(metrics.matthews_corrcoef(expected, predicted)))\n",
    "    print(\"--------------------------------------------------------------\")\n",
    "#     plot_confusion_matrix(metrics.confusion_matrix(expected, predicted),classes=['Good','Faulty'],title='Confusion matrix',normalize=True)\n",
    "#     plt.show()"
   ]
  },
  {
   "cell_type": "code",
   "execution_count": 200,
   "metadata": {
    "collapsed": false
   },
   "outputs": [
    {
     "name": "stdout",
     "output_type": "stream",
     "text": [
      "(30L,)\n",
      "(35L,)\n",
      "(40L,)\n",
      "(45L,)\n",
      "(50L,)\n",
      "(5L, 3049L, 2L)\n"
     ]
    }
   ],
   "source": [
    "\"\"\" Classification and Regression Trees (CART) \"\"\"\n",
    "from sklearn.tree import DecisionTreeClassifier\n",
    "from sklearn.ensemble import RandomForestClassifier\n",
    "\n",
    "# ratio = float(len(train[train[:,-1]=='False']))/len(train)\n",
    "criteria = [\"gini\", \"entropy\"]\n",
    "clf = DecisionTreeClassifier(criterion=criteria[0], random_state=1, max_depth=100,  class_weight={0:1.0, 1:0.05})\n",
    "# clf = RandomForestClassifier(n_estimators=10,  class_weight={0:1.0, 1:0.05}, max_depth=90, n_jobs=4)\n",
    "\n",
    "preds = []\n",
    "choices = np.arange(30,51+1, 5)\n",
    "ensemples_per_feature_space = 1\n",
    "for i,c in enumerate(choices):\n",
    "    for _ in range(ensemples_per_feature_space):\n",
    "#         r = np.random.choice(c, c*4/5, replace=False)\n",
    "        r = np.arange(0,c)\n",
    "        print(r.shape)\n",
    "        clf.fit(train_data[:,r], train_labels)\n",
    "        preds.append(clf.predict_proba(test_data[:,r]))\n",
    "preds = np.asarray(preds)\n",
    "print(preds.shape)"
   ]
  },
  {
   "cell_type": "code",
   "execution_count": 201,
   "metadata": {
    "collapsed": false
   },
   "outputs": [
    {
     "name": "stdout",
     "output_type": "stream",
     "text": [
      "29\n",
      "[ 1  3  6  8 11]\n",
      "------------------------- EVALUATION -------------------------\n",
      "             precision    recall  f1-score   support\n",
      "\n",
      "          0       1.00      0.99      1.00      2848\n",
      "          1       0.91      0.97      0.94       201\n",
      "\n",
      "avg / total       0.99      0.99      0.99      3049\n",
      "\n",
      "Confusion Matrix:\n"
     ]
    },
    {
     "data": {
      "text/html": [
       "<div>\n",
       "<table border=\"1\" class=\"dataframe\">\n",
       "  <thead>\n",
       "    <tr style=\"text-align: right;\">\n",
       "      <th></th>\n",
       "      <th>0</th>\n",
       "      <th>1</th>\n",
       "    </tr>\n",
       "  </thead>\n",
       "  <tbody>\n",
       "    <tr>\n",
       "      <th>0</th>\n",
       "      <td>2828</td>\n",
       "      <td>20</td>\n",
       "    </tr>\n",
       "    <tr>\n",
       "      <th>1</th>\n",
       "      <td>6</td>\n",
       "      <td>195</td>\n",
       "    </tr>\n",
       "  </tbody>\n",
       "</table>\n",
       "</div>"
      ],
      "text/plain": [
       "      0    1\n",
       "0  2828   20\n",
       "1     6  195"
      ]
     },
     "metadata": {},
     "output_type": "display_data"
    },
    {
     "name": "stdout",
     "output_type": "stream",
     "text": [
      "Matthews Correlation Coefficient: 0.933538703002\n",
      "--------------------------------------------------------------\n"
     ]
    }
   ],
   "source": [
    "weights = (choices/2)-14\n",
    "print(np.sum(weights))\n",
    "print(weights)\n",
    "# m = np.average(preds, axis=0, weights=np.repeat(weights, ensemples_per_feature_space, axis=0))\n",
    "m = preds[-1]\n",
    "predictions = (m[:,0]<m[:,1]).astype(np.int32)\n",
    "eval_metrics(test_labels, predictions)"
   ]
  },
  {
   "cell_type": "code",
   "execution_count": 137,
   "metadata": {
    "collapsed": false
   },
   "outputs": [],
   "source": [
    "# \"\"\" ExtraTreeClassifier \"\"\"\n",
    "# from sklearn.tree import ExtraTreeClassifier\n",
    "\n",
    "# # ratio = float(len(train[train[:,-1]=='False']))/len(train)\n",
    "# clf = ExtraTreeClassifier(max_depth=70)\n",
    "# %time t = clf.fit(train_data, train_labels)\n",
    "\n",
    "# eval_metrics(train_labels, clf.predict(train_data))\n",
    "# eval_metrics(test_labels, clf.predict(test_data))"
   ]
  },
  {
   "cell_type": "code",
   "execution_count": 138,
   "metadata": {
    "collapsed": false
   },
   "outputs": [
    {
     "name": "stdout",
     "output_type": "stream",
     "text": [
      "Wall time: 4.3 s\n",
      "------------------------- EVALUATION -------------------------\n",
      "             precision    recall  f1-score   support\n",
      "\n",
      "          0       0.99      1.00      1.00      5000\n",
      "          1       1.00      0.98      0.99      1584\n",
      "\n",
      "avg / total       1.00      0.99      0.99      6584\n",
      "\n",
      "Confusion Matrix:\n"
     ]
    },
    {
     "data": {
      "text/html": [
       "<div>\n",
       "<table border=\"1\" class=\"dataframe\">\n",
       "  <thead>\n",
       "    <tr style=\"text-align: right;\">\n",
       "      <th></th>\n",
       "      <th>0</th>\n",
       "      <th>1</th>\n",
       "    </tr>\n",
       "  </thead>\n",
       "  <tbody>\n",
       "    <tr>\n",
       "      <th>0</th>\n",
       "      <td>5000</td>\n",
       "      <td>0</td>\n",
       "    </tr>\n",
       "    <tr>\n",
       "      <th>1</th>\n",
       "      <td>33</td>\n",
       "      <td>1551</td>\n",
       "    </tr>\n",
       "  </tbody>\n",
       "</table>\n",
       "</div>"
      ],
      "text/plain": [
       "      0     1\n",
       "0  5000     0\n",
       "1    33  1551"
      ]
     },
     "metadata": {},
     "output_type": "display_data"
    },
    {
     "name": "stdout",
     "output_type": "stream",
     "text": [
      "Matthews Correlation Coefficient: 0.986279138736\n",
      "--------------------------------------------------------------\n",
      "------------------------- EVALUATION -------------------------\n",
      "             precision    recall  f1-score   support\n",
      "\n",
      "          0       1.00      0.99      1.00      2848\n",
      "          1       0.92      0.96      0.94       201\n",
      "\n",
      "avg / total       0.99      0.99      0.99      3049\n",
      "\n",
      "Confusion Matrix:\n"
     ]
    },
    {
     "data": {
      "text/html": [
       "<div>\n",
       "<table border=\"1\" class=\"dataframe\">\n",
       "  <thead>\n",
       "    <tr style=\"text-align: right;\">\n",
       "      <th></th>\n",
       "      <th>0</th>\n",
       "      <th>1</th>\n",
       "    </tr>\n",
       "  </thead>\n",
       "  <tbody>\n",
       "    <tr>\n",
       "      <th>0</th>\n",
       "      <td>2831</td>\n",
       "      <td>17</td>\n",
       "    </tr>\n",
       "    <tr>\n",
       "      <th>1</th>\n",
       "      <td>8</td>\n",
       "      <td>193</td>\n",
       "    </tr>\n",
       "  </tbody>\n",
       "</table>\n",
       "</div>"
      ],
      "text/plain": [
       "      0    1\n",
       "0  2831   17\n",
       "1     8  193"
      ]
     },
     "metadata": {},
     "output_type": "display_data"
    },
    {
     "name": "stdout",
     "output_type": "stream",
     "text": [
      "Matthews Correlation Coefficient: 0.935036792215\n",
      "--------------------------------------------------------------\n"
     ]
    }
   ],
   "source": [
    "\"\"\" Random Forest \"\"\"\n",
    "from sklearn.ensemble import RandomForestClassifier\n",
    "\n",
    "clf = RandomForestClassifier(n_estimators=100,  class_weight={0:1.0, 1:0.05}, max_depth=90, n_jobs=4)\n",
    "\n",
    "%time clf = clf.fit(train_data, train_labels)\n",
    "eval_metrics(train_labels, clf.predict(train_data))\n",
    "eval_metrics(test_labels, clf.predict(test_data))"
   ]
  },
  {
   "cell_type": "code",
   "execution_count": null,
   "metadata": {
    "collapsed": true
   },
   "outputs": [],
   "source": []
  }
 ],
 "metadata": {
  "anaconda-cloud": {},
  "kernelspec": {
   "display_name": "Python [python2]",
   "language": "python",
   "name": "Python [python2]"
  },
  "language_info": {
   "codemirror_mode": {
    "name": "ipython",
    "version": 2
   },
   "file_extension": ".py",
   "mimetype": "text/x-python",
   "name": "python",
   "nbconvert_exporter": "python",
   "pygments_lexer": "ipython2",
   "version": "2.7.12"
  }
 },
 "nbformat": 4,
 "nbformat_minor": 0
}

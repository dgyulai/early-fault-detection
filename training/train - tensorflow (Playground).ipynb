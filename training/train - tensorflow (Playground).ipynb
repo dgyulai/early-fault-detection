{
 "cells": [
  {
   "cell_type": "code",
   "execution_count": null,
   "metadata": {
    "collapsed": false
   },
   "outputs": [],
   "source": [
    "%matplotlib notebook\n",
    "\n",
    "from __future__ import absolute_import\n",
    "from __future__ import division\n",
    "from __future__ import print_function\n",
    "\n",
    "import tensorflow as tf\n",
    "tf.logging.set_verbosity(tf.logging.INFO)\n",
    "\n",
    "import json\n",
    "from collections import OrderedDict\n",
    "import copy\n",
    "import numpy as np\n",
    "import matplotlib.pyplot as plt\n",
    "\n",
    "Features = OrderedDict([\n",
    "    (\"Id\",\"\"),\n",
    "    (\"Type\", \"\"),\n",
    "    (\"ScreenPrinter/PositionX\",0),\n",
    "    (\"ScreenPrinter/PositionY\",0),\n",
    "    (\"PasteInspection/PosX1\",0),\n",
    "    (\"PasteInspection/PosY1\",0),\n",
    "    (\"PasteInspection/PosX2\",0),\n",
    "    (\"PasteInspection/PosY2\",0),\n",
    "    (\"PasteInspection/PosX3\",0),\n",
    "    (\"PasteInspection/PosY3\",0),\n",
    "    (\"PasteInspection/PosX4\",0),\n",
    "    (\"PasteInspection/PosY4\",0),\n",
    "    (\"PasteInspection/PosX5\",0),\n",
    "    (\"PasteInspection/PosY5\",0),\n",
    "    (\"PasteInspection/PosX6\",0),\n",
    "    (\"PasteInspection/PosY6\",0),\n",
    "    (\"PickAndPlace/MarkerX1\",0),\n",
    "    (\"PickAndPlace/MarkerY1\",0),\n",
    "    (\"PickAndPlace/MarkerX2\",0),\n",
    "    (\"PickAndPlace/MarkerY2\",0),\n",
    "    (\"AOI1/PosX1\",0),\n",
    "    (\"AOI1/PosY1\",0),\n",
    "    (\"AOI1/PosX2\",0),\n",
    "    (\"AOI1/PosY2\",0),\n",
    "    (\"AOI1/PosX3\",0),\n",
    "    (\"AOI1/PosY3\",0),\n",
    "    (\"AOI1/PosX4\",0),\n",
    "    (\"AOI1/PosY4\",0),\n",
    "    (\"AOI1/PosX5\",0),\n",
    "    (\"AOI1/PosY5\",0),\n",
    "    (\"AOI1/PosX6\",0),\n",
    "    (\"AOI1/PosY6\",0),\n",
    "    (\"Owen1/Temp1\",0),\n",
    "    (\"Owen2/Temp2\",0),\n",
    "    (\"Owen3/Temp3\",0),\n",
    "    (\"AOI2/PosX1\",0),\n",
    "    (\"AOI2/PosY1\",0),\n",
    "    (\"AOI2/PosX2\",0),\n",
    "    (\"AOI2/PosY2\",0),\n",
    "    (\"AOI2/PosX3\",0),\n",
    "    (\"AOI2/PosY3\",0),\n",
    "    (\"AOI2/PosX4\",0),\n",
    "    (\"AOI2/PosY4\",0),\n",
    "    (\"AOI2/PosX5\",0),\n",
    "    (\"AOI2/PosY5\",0),\n",
    "    (\"AOI2/PosX6\",0),\n",
    "    (\"AOI2/PosY6\",0),\n",
    "    (\"Housing/HScrew\",0),\n",
    "    (\"ConAssembly1or2/Con1or2Screw\",0),\n",
    "    (\"PtAssembly1/Pt1Screw1\",0),\n",
    "    (\"PtAssembly1/Pt1Screw2\",0),\n",
    "    (\"PtAssembly2or3/Pt2or3\",0),\n",
    "    (\"Welding/WeldFrequency\",0),\n",
    "    (\"Label\", False)\n",
    "])"
   ]
  },
  {
   "cell_type": "code",
   "execution_count": null,
   "metadata": {
    "collapsed": false
   },
   "outputs": [],
   "source": [
    "with open(\"/data/ABU1.txt\") as f:\n",
    "    data = []\n",
    "    for line in f:\n",
    "        features = copy.deepcopy(Features)\n",
    "        j = json.loads(line)\n",
    "        total = j['ResultValue']['total']\n",
    "        #type = j['ResultValue']['type']['e'][0]['sv']\n",
    "        #label = j['ResultValue']['label']['e'][0]['bv']\n",
    "        #name = j['ResultValue']['label']['bn']\n",
    "        measurements = j['ResultValue']['measurements']['e']\n",
    "        features[\"Id\"] = j['ResultValue']['label']['bn']\n",
    "        features[\"Type\"] = j['ResultValue']['type']['e'][0]['sv']\n",
    "        features[\"Label\"] = j['ResultValue']['label']['e'][0]['bv']\n",
    "        for entry in measurements:\n",
    "            #print('(\"{}\",0),'.format(entry['n']))\n",
    "            feature_name = entry['n']\n",
    "            # parallel stations\n",
    "            if feature_name == \"ConAssembly1/Con1Screw\" or feature_name == \"ConAssembly2/Con2Screw\":\n",
    "                feature_name = \"ConAssembly1or2/Con1or2Screw\"\n",
    "            elif feature_name == \"PtAssembly2/Pt2\" or feature_name == \"PtAssembly3/Pt2\":\n",
    "                feature_name = \"PtAssembly2or3/Pt2or3\"\n",
    "            \n",
    "            features[feature_name] = entry['v']\n",
    "        #print(features.values())\n",
    "        data.append(list(features.values()))\n",
    "    print(len(data))"
   ]
  },
  {
   "cell_type": "code",
   "execution_count": null,
   "metadata": {
    "collapsed": false
   },
   "outputs": [],
   "source": [
    "data = np.asarray(data)\n",
    "#print(data[:,2:-1])\n",
    "numerics = data[:,2:-1]\n",
    "# for n in numerics:\n",
    "#     plt.plot(n);\n",
    "mask = np.random.rand(len(data)) < 0.7\n",
    "train = data[mask]\n",
    "test = data[~mask]\n",
    "print(\"Train Total: {} Good: {} Faulty: {} Ratio: {}\".format(len(train), len(train[train[:,-1]=='True']), len(train[train[:,-1]=='False']), float(len(train[train[:,-1]=='False']))/len(train)))\n",
    "print(\"Test  Total: {} Good: {} Faulty: {} Ratio: {}\".format(len(test), len(test[test[:,-1]=='True']), len(test[test[:,-1]=='False']), float(len(test[test[:,-1]=='False']))/len(train)))"
   ]
  },
  {
   "cell_type": "code",
   "execution_count": null,
   "metadata": {
    "collapsed": false
   },
   "outputs": [],
   "source": [
    "faulty = train[train[:,-1]=='False']\n",
    "not_faulty = train[train[:,-1]=='True']\n",
    "#train = np.concatenate((not_faulty, np.repeat(faulty, 10, axis=0))) # repeate faulties\n",
    "train = np.concatenate((not_faulty[:len(faulty)], faulty))\n",
    "print(\"Train Total: {} Good: {} Faulty: {} Ratio: {}\".format(len(train), len(train[train[:,-1]=='True']), len(train[train[:,-1]=='False']), float(len(train[train[:,-1]=='False']))/len(train)))\n",
    "train = train[np.random.permutation(train.shape[0])] # shuffle data"
   ]
  },
  {
   "cell_type": "code",
   "execution_count": null,
   "metadata": {
    "collapsed": true
   },
   "outputs": [],
   "source": [
    "train_data = train[:,2:-1].astype(np.float32)\n",
    "test_data = test[:,2:-1].astype(np.float32)\n",
    "train_labels = np.array(train[:,-1]=='False').astype(np.int32)\n",
    "test_labels = np.array(test[:,-1]=='False').astype(np.int32)"
   ]
  },
  {
   "cell_type": "code",
   "execution_count": null,
   "metadata": {
    "collapsed": false
   },
   "outputs": [],
   "source": [
    "\"\"\" train \"\"\"\n",
    "model_path = \"./tmp\"\n",
    "from subprocess import call\n",
    "call([\"rm\", \"-fR\", model_path])\n",
    "\n",
    "# feature_columns = tf.contrib.layers.sparse_column_with_hash_bucket(\"\", hash_bucket_size=1000)\n",
    "# columns_emb = tf.contrib.layers.embedding_column(sparse_id_column=feature_columns, dimension=total_features, combiner=\"mean\")\n",
    "\n",
    "feature_columns = tf.contrib.layers.real_valued_column(\"\", dimension=51)\n",
    "\n",
    "print(feature_columns)\n",
    "# Build 3 layer DNN with 10, 20, 10 units respectively.\n",
    "classifier = tf.contrib.learn.DNNClassifier(feature_columns=[feature_columns],\n",
    "                                            hidden_units=[25, 50, 25],\n",
    "                                            n_classes=3,\n",
    "                                            model_dir=model_path)\n",
    "\n",
    "# Fit model.\n",
    "f = classifier.fit(x=train_data, y=train_labels, steps=30000)\n",
    "print(f)"
   ]
  },
  {
   "cell_type": "code",
   "execution_count": null,
   "metadata": {
    "collapsed": false
   },
   "outputs": [],
   "source": [
    "\"\"\" evaluate \"\"\"\n",
    "\n",
    "score = classifier.evaluate(x=train_data, y=train_labels)\n",
    "print('Accuracy:', score)\n",
    "\n",
    "score = classifier.evaluate(x=test_data, y=test_labels)\n",
    "print('Testing:', score)\n",
    "\n",
    "score = classifier.evaluate(x=test_data[test_labels==0], y=test_labels[test_labels==0])\n",
    "print('Testing 0s:', score)\n",
    "\n",
    "score = classifier.evaluate(x=test_data[test_labels==1], y=test_labels[test_labels==1])\n",
    "print('Testing 1s:', score)"
   ]
  },
  {
   "cell_type": "code",
   "execution_count": null,
   "metadata": {
    "collapsed": false
   },
   "outputs": [],
   "source": [
    "pwd"
   ]
  },
  {
   "cell_type": "code",
   "execution_count": null,
   "metadata": {
    "collapsed": true
   },
   "outputs": [],
   "source": []
  }
 ],
 "metadata": {
  "kernelspec": {
   "display_name": "Python 2",
   "language": "python",
   "name": "python2"
  },
  "language_info": {
   "codemirror_mode": {
    "name": "ipython",
    "version": 2
   },
   "file_extension": ".py",
   "mimetype": "text/x-python",
   "name": "python",
   "nbconvert_exporter": "python",
   "pygments_lexer": "ipython2",
   "version": "2.7.6"
  }
 },
 "nbformat": 4,
 "nbformat_minor": 1
}

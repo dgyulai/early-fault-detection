{
 "cells": [
  {
   "cell_type": "code",
   "execution_count": 1,
   "metadata": {
    "collapsed": false
   },
   "outputs": [],
   "source": [
    "%matplotlib notebook\n",
    "#%matplotlib inline\n",
    "\n",
    "import json\n",
    "from collections import OrderedDict\n",
    "import copy\n",
    "import numpy as np\n",
    "import matplotlib.pyplot as plt\n",
    "from _converter import SensorThings2Dict\n",
    "from _plotter import plot_confusion_matrix"
   ]
  },
  {
   "cell_type": "code",
   "execution_count": 5,
   "metadata": {
    "collapsed": false
   },
   "outputs": [
    {
     "name": "stdout",
     "output_type": "stream",
     "text": [
      "Incomplete rows: 65\n",
      "Loaded: 9484\n"
     ]
    }
   ],
   "source": [
    "with open(\"ABU1.txt\") as f:\n",
    "    data = []\n",
    "    bad = 0\n",
    "    for line in f:\n",
    "        try:\n",
    "            features = SensorThings2Dict(line)\n",
    "            data.append(list(features.values()))\n",
    "        except Exception, e:\n",
    "            bad+=1\n",
    "print(\"Incomplete rows: {}\".format(bad))\n",
    "print(\"Loaded: {}\".format(len(data)))"
   ]
  },
  {
   "cell_type": "code",
   "execution_count": 7,
   "metadata": {
    "collapsed": false
   },
   "outputs": [
    {
     "name": "stdout",
     "output_type": "stream",
     "text": [
      "Train Total: 8521 Good: 8041 Faulty: 480 Ratio: 0.0563314165004\n",
      "Test  Total: 963 Good: 901 Faulty: 62 Ratio: 0.00727614129797\n"
     ]
    }
   ],
   "source": [
    "data = np.asarray(data)\n",
    "#print(data[:,2:-1])\n",
    "# numerics = data[:,2:-1]\n",
    "# for n in numerics[data[:,-1]=='True']:\n",
    "#     plt.plot(n);\n",
    "mask = np.random.rand(len(data)) < 0.9\n",
    "train = data[mask]\n",
    "test = data[~mask]\n",
    "print(\"Train Total: {} Good: {} Faulty: {} Ratio: {}\".format(len(train), len(train[train[:,-1]=='True']), len(train[train[:,-1]=='False']), float(len(train[train[:,-1]=='False']))/len(train)))\n",
    "print(\"Test  Total: {} Good: {} Faulty: {} Ratio: {}\".format(len(test), len(test[test[:,-1]=='True']), len(test[test[:,-1]=='False']), float(len(test[test[:,-1]=='False']))/len(train)))"
   ]
  },
  {
   "cell_type": "code",
   "execution_count": 19,
   "metadata": {
    "collapsed": false
   },
   "outputs": [
    {
     "name": "stdout",
     "output_type": "stream",
     "text": [
      "Train Total: 15241 Good: 8041 Faulty: 7200 Ratio: 0.472409946854\n"
     ]
    }
   ],
   "source": [
    "\"\"\" Balance data \"\"\"\n",
    "def balanceData():\n",
    "    global train\n",
    "    faulty = train[train[:,-1]=='False']\n",
    "    not_faulty = train[train[:,-1]=='True']\n",
    "    train = np.concatenate((not_faulty, np.repeat(faulty, 15, axis=0))) # repeate faulties\n",
    "    #train = np.concatenate((not_faulty[:len(faulty)*2], faulty))\n",
    "    print(\"Train Total: {} Good: {} Faulty: {} Ratio: {}\".format(len(train), len(train[train[:,-1]=='True']), len(train[train[:,-1]=='False']), float(len(train[train[:,-1]=='False']))/len(train)))\n",
    "    train = train[np.random.permutation(train.shape[0])] # shuffle data\n",
    "balanceData()\n",
    "#train_data = train[train[:,-1]=='True']"
   ]
  },
  {
   "cell_type": "code",
   "execution_count": 20,
   "metadata": {
    "collapsed": false
   },
   "outputs": [],
   "source": [
    "train_data = train[:,2:-1].astype(np.float32)\n",
    "test_data = test[:,2:-1].astype(np.float32)\n",
    "\"\"\"\n",
    "Quality_OK is mapped to Faultiness\n",
    "    'False' -> 1 (Faulty)\n",
    "    'True'  -> 0 (Good)\n",
    "\"\"\"\n",
    "train_labels = np.array(train[:,-1]=='False').astype(np.int32)\n",
    "test_labels = np.array(test[:,-1]=='False').astype(np.int32)"
   ]
  },
  {
   "cell_type": "code",
   "execution_count": 9,
   "metadata": {
    "collapsed": true
   },
   "outputs": [],
   "source": [
    "def eval_metrics(expected, predicted):\n",
    "    print(\"------------------------- EVALUATION -------------------------\")\n",
    "    print(\"Accuracy Score: {}\".format(metrics.accuracy_score(expected, predicted)))\n",
    "    print(metrics.classification_report(expected, predicted))\n",
    "    print(\"Confusion Matrix:\")\n",
    "    print(metrics.confusion_matrix(expected, predicted))\n",
    "    print(\"Kappa Score: {}\".format(metrics.cohen_kappa_score(expected, predicted)))\n",
    "#     print(\"Matthews Correlation Coefficient: {}\".format(metrics.matthews_corrcoef(expected, predicted)))\n",
    "    print(\"--------------------------------------------------------------\")\n",
    "#     plot_confusion_matrix(metrics.confusion_matrix(expected, predicted),classes=['Good','Faulty'],title='Confusion matrix',normalize=True)\n",
    "#     plt.show()"
   ]
  },
  {
   "cell_type": "code",
   "execution_count": 10,
   "metadata": {
    "collapsed": false
   },
   "outputs": [
    {
     "name": "stdout",
     "output_type": "stream",
     "text": [
      "------------------------- EVALUATION -------------------------\n",
      "Accuracy Score: 0.999647928647\n",
      "             precision    recall  f1-score   support\n",
      "\n",
      "          0       1.00      1.00      1.00      8041\n",
      "          1       1.00      0.99      1.00       480\n",
      "\n",
      "avg / total       1.00      1.00      1.00      8521\n",
      "\n",
      "Confusion Matrix:\n",
      "[[8041    0]\n",
      " [   3  477]]\n",
      "Kappa Score: 0.996678696534\n",
      "--------------------------------------------------------------\n",
      "------------------------- EVALUATION -------------------------\n",
      "Accuracy Score: 0.998961578401\n",
      "             precision    recall  f1-score   support\n",
      "\n",
      "          0       1.00      1.00      1.00       901\n",
      "          1       1.00      0.98      0.99        62\n",
      "\n",
      "avg / total       1.00      1.00      1.00       963\n",
      "\n",
      "Confusion Matrix:\n",
      "[[901   0]\n",
      " [  1  61]]\n",
      "Kappa Score: 0.99131532669\n",
      "--------------------------------------------------------------\n"
     ]
    }
   ],
   "source": [
    "\"\"\" Classification and Regression Trees (CART) \"\"\"\n",
    "from sklearn.tree import DecisionTreeClassifier\n",
    "from sklearn import metrics\n",
    "\n",
    "clf = DecisionTreeClassifier(criterion=\"gini\", random_state=1, max_depth=100,  class_weight={0:1.0, 1:0.05})\n",
    "clf.fit(train_data, train_labels)\n",
    "\n",
    "eval_metrics(train_labels, clf.predict(train_data))\n",
    "eval_metrics(test_labels, clf.predict(test_data))\n",
    "# from sklearn.tree import export_graphviz\n",
    "# export_graphviz(clf, out_file='tree.dot') "
   ]
  },
  {
   "cell_type": "code",
   "execution_count": 13,
   "metadata": {
    "collapsed": false
   },
   "outputs": [
    {
     "name": "stdout",
     "output_type": "stream",
     "text": [
      "------------------------- EVALUATION -------------------------\n",
      "Accuracy Score: 1.0\n",
      "             precision    recall  f1-score   support\n",
      "\n",
      "          0       1.00      1.00      1.00      8041\n",
      "          1       1.00      1.00      1.00       480\n",
      "\n",
      "avg / total       1.00      1.00      1.00      8521\n",
      "\n",
      "Confusion Matrix:\n",
      "[[8041    0]\n",
      " [   0  480]]\n",
      "Kappa Score: 1.0\n",
      "--------------------------------------------------------------\n",
      "------------------------- EVALUATION -------------------------\n",
      "Accuracy Score: 0.996884735202\n",
      "             precision    recall  f1-score   support\n",
      "\n",
      "          0       1.00      1.00      1.00       901\n",
      "          1       1.00      0.95      0.98        62\n",
      "\n",
      "avg / total       1.00      1.00      1.00       963\n",
      "\n",
      "Confusion Matrix:\n",
      "[[901   0]\n",
      " [  3  59]]\n",
      "Kappa Score: 0.973545651836\n",
      "--------------------------------------------------------------\n"
     ]
    }
   ],
   "source": [
    "\"\"\" Random Forest \"\"\"\n",
    "from sklearn.ensemble import RandomForestClassifier\n",
    "from sklearn import metrics\n",
    "\n",
    "clf = RandomForestClassifier(n_estimators=100,  class_weight={0:1.0, 1:0.05}, warm_start=True)\n",
    "\n",
    "clf = clf.fit(train_data, train_labels)\n",
    "eval_metrics(train_labels, clf.predict(train_data))\n",
    "eval_metrics(test_labels, clf.predict(test_data))"
   ]
  },
  {
   "cell_type": "code",
   "execution_count": null,
   "metadata": {
    "collapsed": false
   },
   "outputs": [],
   "source": [
    "import random\n",
    "from copy import deepcopy\n",
    "def randomPair(predicted_label):\n",
    "    index = random.sample(np.where(train_labels==abs(1-predicted_label))[0],1)\n",
    "    return deepcopy(train_data[index][0]), deepcopy(train_labels[index][0])"
   ]
  },
  {
   "cell_type": "code",
   "execution_count": null,
   "metadata": {
    "collapsed": false
   },
   "outputs": [],
   "source": [
    "for i,t in enumerate(test_data):\n",
    "    prediction = clf.predict([t])[0]\n",
    "    pair_data, pair_label = randomPair(prediction)\n",
    "#     print(test_data[i])\n",
    "#     print(pair_data)\n",
    "    clf = clf.fit([test_data[i],pair_data], [prediction,pair_label])"
   ]
  },
  {
   "cell_type": "code",
   "execution_count": null,
   "metadata": {
    "collapsed": false
   },
   "outputs": [],
   "source": [
    "eval_metrics(train_labels, clf.predict(train_data))\n",
    "eval_metrics(test_labels, clf.predict(test_data))"
   ]
  },
  {
   "cell_type": "code",
   "execution_count": 12,
   "metadata": {
    "collapsed": false
   },
   "outputs": [
    {
     "name": "stdout",
     "output_type": "stream",
     "text": [
      "------------------------- EVALUATION -------------------------\n",
      "Accuracy Score: 1.0\n",
      "             precision    recall  f1-score   support\n",
      "\n",
      "          0       1.00      1.00      1.00      8041\n",
      "          1       1.00      1.00      1.00       480\n",
      "\n",
      "avg / total       1.00      1.00      1.00      8521\n",
      "\n",
      "Confusion Matrix:\n",
      "[[8041    0]\n",
      " [   0  480]]\n",
      "Kappa Score: 1.0\n",
      "--------------------------------------------------------------\n",
      "------------------------- EVALUATION -------------------------\n",
      "Accuracy Score: 0.994807892004\n",
      "             precision    recall  f1-score   support\n",
      "\n",
      "          0       1.00      1.00      1.00       901\n",
      "          1       0.95      0.97      0.96        62\n",
      "\n",
      "avg / total       0.99      0.99      0.99       963\n",
      "\n",
      "Confusion Matrix:\n",
      "[[898   3]\n",
      " [  2  60]]\n",
      "Kappa Score: 0.957223954585\n",
      "--------------------------------------------------------------\n"
     ]
    }
   ],
   "source": [
    "\"\"\" Bagging Classifier \"\"\" \n",
    "from sklearn.ensemble import BaggingClassifier\n",
    "from sklearn import metrics\n",
    "\n",
    "clf = BaggingClassifier(n_estimators=50, random_state=1)\n",
    "clf = clf.fit(train_data, train_labels)\n",
    "\n",
    "eval_metrics(train_labels, clf.predict(train_data))\n",
    "eval_metrics(test_labels, clf.predict(test_data))"
   ]
  },
  {
   "cell_type": "code",
   "execution_count": 21,
   "metadata": {
    "collapsed": false
   },
   "outputs": [
    {
     "name": "stdout",
     "output_type": "stream",
     "text": [
      "------------------------- EVALUATION -------------------------\n",
      "Accuracy Score: 0.562430286727\n",
      "             precision    recall  f1-score   support\n",
      "\n",
      "          0       0.55      0.86      0.68      8041\n",
      "          1       0.60      0.23      0.33      7200\n",
      "\n",
      "avg / total       0.58      0.56      0.51     15241\n",
      "\n",
      "Confusion Matrix:\n",
      "[[6952 1089]\n",
      " [5580 1620]]\n",
      "Kappa Score: 0.0925892224622\n",
      "--------------------------------------------------------------\n",
      "------------------------- EVALUATION -------------------------\n",
      "Accuracy Score: 0.789200415369\n",
      "             precision    recall  f1-score   support\n",
      "\n",
      "          0       0.93      0.84      0.88       901\n",
      "          1       0.04      0.10      0.06        62\n",
      "\n",
      "avg / total       0.87      0.79      0.83       963\n",
      "\n",
      "Confusion Matrix:\n",
      "[[754 147]\n",
      " [ 56   6]]\n",
      "Kappa Score: -0.0394314973441\n",
      "--------------------------------------------------------------\n"
     ]
    }
   ],
   "source": [
    "\"\"\" MLP \"\"\"\n",
    "from sklearn.neural_network import MLPClassifier\n",
    "from sklearn import metrics\n",
    "\n",
    "solvers = ['lbfgs', 'sgd', 'adam']\n",
    "clf = MLPClassifier(solver=solvers[0], alpha=1e-5, hidden_layer_sizes=(25,50,25), random_state=1, \n",
    "                    max_iter=1000, verbose=True, tol=1e-6)\n",
    "clf = clf.fit(train_data, train_labels)\n",
    "\n",
    "eval_metrics(train_labels, clf.predict(train_data))\n",
    "eval_metrics(test_labels, clf.predict(test_data))"
   ]
  },
  {
   "cell_type": "code",
   "execution_count": 22,
   "metadata": {
    "collapsed": false
   },
   "outputs": [
    {
     "name": "stdout",
     "output_type": "stream",
     "text": [
      "------------------------- EVALUATION -------------------------\n",
      "Accuracy Score: 0.962272816744\n",
      "             precision    recall  f1-score   support\n",
      "\n",
      "          0       0.99      0.94      0.96      8041\n",
      "          1       0.93      0.99      0.96      7200\n",
      "\n",
      "avg / total       0.96      0.96      0.96     15241\n",
      "\n",
      "Confusion Matrix:\n",
      "[[7526  515]\n",
      " [  60 7140]]\n",
      "Kappa Score: 0.924564478398\n",
      "--------------------------------------------------------------\n",
      "------------------------- EVALUATION -------------------------\n",
      "Accuracy Score: 0.830737279335\n",
      "             precision    recall  f1-score   support\n",
      "\n",
      "          0       0.94      0.88      0.91       901\n",
      "          1       0.07      0.13      0.09        62\n",
      "\n",
      "avg / total       0.88      0.83      0.85       963\n",
      "\n",
      "Confusion Matrix:\n",
      "[[792 109]\n",
      " [ 54   8]]\n",
      "Kappa Score: 0.00570092925147\n",
      "--------------------------------------------------------------\n"
     ]
    }
   ],
   "source": [
    "\"\"\" Support Vector Machine \"\"\"\n",
    "from sklearn.svm import SVC\n",
    "from sklearn import metrics\n",
    "\n",
    "clf = SVC()\n",
    "clf.fit(train_data, train_labels)\n",
    "\n",
    "eval_metrics(train_labels, clf.predict(train_data))\n",
    "eval_metrics(test_labels, clf.predict(test_data))"
   ]
  },
  {
   "cell_type": "code",
   "execution_count": 18,
   "metadata": {
    "collapsed": false
   },
   "outputs": [
    {
     "name": "stdout",
     "output_type": "stream",
     "text": [
      "------------------------- EVALUATION -------------------------\n",
      "Accuracy Score: 0.855416030982\n",
      "             precision    recall  f1-score   support\n",
      "\n",
      "         -1       0.10      0.19      0.13       480\n",
      "          1       0.95      0.90      0.92      8041\n",
      "\n",
      "avg / total       0.90      0.86      0.88      8521\n",
      "\n",
      "Confusion Matrix:\n",
      "[[  92  388]\n",
      " [ 844 7197]]\n",
      "Kappa Score: 0.059934937893\n",
      "--------------------------------------------------------------\n",
      "------------------------- EVALUATION -------------------------\n",
      "Accuracy Score: 0.779854620976\n",
      "             precision    recall  f1-score   support\n",
      "\n",
      "         -1       0.08      0.23      0.12        62\n",
      "          1       0.94      0.82      0.87       901\n",
      "\n",
      "avg / total       0.88      0.78      0.83       963\n",
      "\n",
      "Confusion Matrix:\n",
      "[[ 14  48]\n",
      " [164 737]]\n",
      "Kappa Score: 0.0234013240978\n",
      "--------------------------------------------------------------\n"
     ]
    }
   ],
   "source": [
    "\"\"\" OneClassSVM \"\"\"\n",
    "from sklearn.svm import OneClassSVM\n",
    "from sklearn import metrics\n",
    "\n",
    "clf = OneClassSVM(nu=0.1)\n",
    "clf.fit(train_data)\n",
    "\n",
    "eval_metrics(train_labels*-2+1, clf.predict(train_data))\n",
    "eval_metrics(test_labels*-2+1, clf.predict(test_data))"
   ]
  },
  {
   "cell_type": "code",
   "execution_count": null,
   "metadata": {
    "collapsed": false
   },
   "outputs": [],
   "source": [
    "x = np.random.normal(scale=0.1, size=(1000))\n",
    "import scipy.stats as stats\n",
    "n = stats.norm.pdf(x, np.mean(x), np.std(x))\n",
    "print(np.mean(x), np.std(x))\n",
    "plt.plot(x,n, '.')"
   ]
  },
  {
   "cell_type": "code",
   "execution_count": null,
   "metadata": {
    "collapsed": true
   },
   "outputs": [],
   "source": []
  }
 ],
 "metadata": {
  "anaconda-cloud": {},
  "kernelspec": {
   "display_name": "Python [python2]",
   "language": "python",
   "name": "Python [python2]"
  },
  "language_info": {
   "codemirror_mode": {
    "name": "ipython",
    "version": 2
   },
   "file_extension": ".py",
   "mimetype": "text/x-python",
   "name": "python",
   "nbconvert_exporter": "python",
   "pygments_lexer": "ipython2",
   "version": "2.7.12"
  }
 },
 "nbformat": 4,
 "nbformat_minor": 0
}
